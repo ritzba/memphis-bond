{
 "cells": [
  {
   "cell_type": "code",
   "execution_count": 1,
   "id": "5ffb30eb",
   "metadata": {},
   "outputs": [],
   "source": [
    "from sklearn.model_selection import train_test_split, GridSearchCV\n",
    "from sklearn.linear_model import LinearRegression, Lasso, ElasticNet, Ridge"
   ]
  },
  {
   "cell_type": "code",
   "execution_count": 2,
   "id": "5b248e12",
   "metadata": {},
   "outputs": [],
   "source": [
    "from sklearn.preprocessing import OneHotEncoder, StandardScaler"
   ]
  },
  {
   "cell_type": "code",
   "execution_count": 3,
   "id": "1c03773d",
   "metadata": {},
   "outputs": [],
   "source": [
    "import pandas as pd\n",
    "import numpy as np\n",
    "import matplotlib.pyplot as plt\n",
    "import seaborn as sns\n",
    "sns.set()\n",
    "\n",
    "from sklearn.model_selection import train_test_split, cross_val_score, GridSearchCV\n",
    "from sklearn.linear_model import LinearRegression, ElasticNet, LogisticRegression\n",
    "from sklearn.neighbors import KNeighborsClassifier, KNeighborsRegressor\n",
    "from sklearn.tree import DecisionTreeClassifier, DecisionTreeRegressor\n",
    "from sklearn.ensemble import RandomForestClassifier, RandomForestRegressor,AdaBoostClassifier, AdaBoostRegressor, BaggingRegressor, BaggingClassifier\n",
    "from sklearn.svm import SVR, SVC\n",
    "import xgboost as kg\n",
    "\n",
    "from sklearn.pipeline import Pipeline\n",
    "from sklearn.compose import ColumnTransformer\n",
    "from sklearn.preprocessing import StandardScaler, PolynomialFeatures\n",
    "from sklearn.metrics import mean_squared_error, f1_score"
   ]
  },
  {
   "cell_type": "code",
   "execution_count": 4,
   "id": "c910b752",
   "metadata": {},
   "outputs": [],
   "source": [
    "from sklearn.naive_bayes import GaussianNB, MultinomialNB, BernoulliNB"
   ]
  },
  {
   "cell_type": "code",
   "execution_count": 5,
   "id": "8ee0039d",
   "metadata": {},
   "outputs": [],
   "source": [
    "from sklearn.metrics import confusion_matrix"
   ]
  },
  {
   "cell_type": "code",
   "execution_count": null,
   "id": "0d57396c",
   "metadata": {},
   "outputs": [],
   "source": []
  },
  {
   "cell_type": "code",
   "execution_count": 6,
   "id": "a829d6a5",
   "metadata": {},
   "outputs": [],
   "source": [
    "cases = pd.read_csv('ody.csv')"
   ]
  },
  {
   "cell_type": "code",
   "execution_count": 7,
   "id": "67aa0e81",
   "metadata": {},
   "outputs": [
    {
     "data": {
      "text/html": [
       "<div>\n",
       "<style scoped>\n",
       "    .dataframe tbody tr th:only-of-type {\n",
       "        vertical-align: middle;\n",
       "    }\n",
       "\n",
       "    .dataframe tbody tr th {\n",
       "        vertical-align: top;\n",
       "    }\n",
       "\n",
       "    .dataframe thead th {\n",
       "        text-align: right;\n",
       "    }\n",
       "</style>\n",
       "<table border=\"1\" class=\"dataframe\">\n",
       "  <thead>\n",
       "    <tr style=\"text-align: right;\">\n",
       "      <th></th>\n",
       "      <th>cl</th>\n",
       "      <th>hom</th>\n",
       "      <th>gun</th>\n",
       "      <th>rape</th>\n",
       "      <th>sex</th>\n",
       "      <th>robb</th>\n",
       "      <th>burg</th>\n",
       "      <th>driv</th>\n",
       "      <th>ch</th>\n",
       "      <th>name</th>\n",
       "      <th>...</th>\n",
       "      <th>retained</th>\n",
       "      <th>case_no</th>\n",
       "      <th>judge</th>\n",
       "      <th>date</th>\n",
       "      <th>type</th>\n",
       "      <th>status</th>\n",
       "      <th>bond_amt</th>\n",
       "      <th>bond_status</th>\n",
       "      <th>era</th>\n",
       "      <th>log_bond</th>\n",
       "    </tr>\n",
       "  </thead>\n",
       "  <tbody>\n",
       "    <tr>\n",
       "      <th>0</th>\n",
       "      <td>{'Misdemeanor B', 'Misdemeanor C'}</td>\n",
       "      <td>0</td>\n",
       "      <td>0</td>\n",
       "      <td>0</td>\n",
       "      <td>0</td>\n",
       "      <td>0</td>\n",
       "      <td>0</td>\n",
       "      <td>1</td>\n",
       "      <td>{'55-50-504', '55-12-139'}</td>\n",
       "      <td>BANKS, MORGAN S</td>\n",
       "      <td>...</td>\n",
       "      <td>NaN</td>\n",
       "      <td>21000002</td>\n",
       "      <td>Montesi, Louis J., Jr.</td>\n",
       "      <td>01/01/2021</td>\n",
       "      <td>Misdemeanor Arrest</td>\n",
       "      <td>Disposed</td>\n",
       "      <td>0.0</td>\n",
       "      <td>Posted</td>\n",
       "      <td>0.0</td>\n",
       "      <td>0.000000</td>\n",
       "    </tr>\n",
       "    <tr>\n",
       "      <th>1</th>\n",
       "      <td>{'Misdemeanor A'}</td>\n",
       "      <td>0</td>\n",
       "      <td>0</td>\n",
       "      <td>0</td>\n",
       "      <td>0</td>\n",
       "      <td>0</td>\n",
       "      <td>0</td>\n",
       "      <td>0</td>\n",
       "      <td>{'39-17-418'}</td>\n",
       "      <td>BLACK, DAJAVANTAY J</td>\n",
       "      <td>...</td>\n",
       "      <td>Harris, Jayniece</td>\n",
       "      <td>21000003</td>\n",
       "      <td>Anderson, William Bill</td>\n",
       "      <td>01/01/2021</td>\n",
       "      <td>Misdemeanor Arrest</td>\n",
       "      <td>Disposed</td>\n",
       "      <td>250.0</td>\n",
       "      <td>Case Disposed</td>\n",
       "      <td>0.0</td>\n",
       "      <td>5.525453</td>\n",
       "    </tr>\n",
       "    <tr>\n",
       "      <th>2</th>\n",
       "      <td>{'Felony A'}</td>\n",
       "      <td>0</td>\n",
       "      <td>0</td>\n",
       "      <td>0</td>\n",
       "      <td>0</td>\n",
       "      <td>0</td>\n",
       "      <td>0</td>\n",
       "      <td>0</td>\n",
       "      <td>{'39-17-434'}</td>\n",
       "      <td>BASS, GARRISON</td>\n",
       "      <td>...</td>\n",
       "      <td>Retained</td>\n",
       "      <td>21000004</td>\n",
       "      <td>Dwyer, Tim</td>\n",
       "      <td>01/01/2021</td>\n",
       "      <td>Felony Arrest Drug</td>\n",
       "      <td>Held to State</td>\n",
       "      <td>3500.0</td>\n",
       "      <td>Held To State</td>\n",
       "      <td>0.0</td>\n",
       "      <td>8.160804</td>\n",
       "    </tr>\n",
       "    <tr>\n",
       "      <th>3</th>\n",
       "      <td>{'Misdemeanor C'}</td>\n",
       "      <td>0</td>\n",
       "      <td>0</td>\n",
       "      <td>0</td>\n",
       "      <td>0</td>\n",
       "      <td>0</td>\n",
       "      <td>0</td>\n",
       "      <td>0</td>\n",
       "      <td>{'39-17-310', '39-14-405'}</td>\n",
       "      <td>HALL, JAMES E</td>\n",
       "      <td>...</td>\n",
       "      <td>NaN</td>\n",
       "      <td>21000005</td>\n",
       "      <td>Montesi, Louis J., Jr.</td>\n",
       "      <td>01/01/2021</td>\n",
       "      <td>Misdemeanor Arrest</td>\n",
       "      <td>Disposed</td>\n",
       "      <td>0.0</td>\n",
       "      <td>Posted</td>\n",
       "      <td>0.0</td>\n",
       "      <td>0.000000</td>\n",
       "    </tr>\n",
       "    <tr>\n",
       "      <th>4</th>\n",
       "      <td>{'Misdemeanor A'}</td>\n",
       "      <td>0</td>\n",
       "      <td>0</td>\n",
       "      <td>0</td>\n",
       "      <td>0</td>\n",
       "      <td>0</td>\n",
       "      <td>0</td>\n",
       "      <td>0</td>\n",
       "      <td>{'39-13-111'}</td>\n",
       "      <td>CROCKER, CHAD</td>\n",
       "      <td>...</td>\n",
       "      <td>BRASHIER, KENNETH W</td>\n",
       "      <td>21000008</td>\n",
       "      <td>Turner, William C.</td>\n",
       "      <td>01/01/2021</td>\n",
       "      <td>Misdemeanor Arrest Domestic Violence</td>\n",
       "      <td>Disposed</td>\n",
       "      <td>1500.0</td>\n",
       "      <td>Case Disposed</td>\n",
       "      <td>0.0</td>\n",
       "      <td>7.313887</td>\n",
       "    </tr>\n",
       "  </tbody>\n",
       "</table>\n",
       "<p>5 rows × 24 columns</p>\n",
       "</div>"
      ],
      "text/plain": [
       "                                   cl  hom  gun  rape  sex  robb  burg  driv  \\\n",
       "0  {'Misdemeanor B', 'Misdemeanor C'}    0    0     0    0     0     0     1   \n",
       "1                   {'Misdemeanor A'}    0    0     0    0     0     0     0   \n",
       "2                        {'Felony A'}    0    0     0    0     0     0     0   \n",
       "3                   {'Misdemeanor C'}    0    0     0    0     0     0     0   \n",
       "4                   {'Misdemeanor A'}    0    0     0    0     0     0     0   \n",
       "\n",
       "                           ch                 name  ...             retained  \\\n",
       "0  {'55-50-504', '55-12-139'}      BANKS, MORGAN S  ...                  NaN   \n",
       "1               {'39-17-418'}  BLACK, DAJAVANTAY J  ...     Harris, Jayniece   \n",
       "2               {'39-17-434'}       BASS, GARRISON  ...             Retained   \n",
       "3  {'39-17-310', '39-14-405'}        HALL, JAMES E  ...                  NaN   \n",
       "4               {'39-13-111'}        CROCKER, CHAD  ...  BRASHIER, KENNETH W   \n",
       "\n",
       "    case_no                   judge        date  \\\n",
       "0  21000002  Montesi, Louis J., Jr.  01/01/2021   \n",
       "1  21000003  Anderson, William Bill  01/01/2021   \n",
       "2  21000004              Dwyer, Tim  01/01/2021   \n",
       "3  21000005  Montesi, Louis J., Jr.  01/01/2021   \n",
       "4  21000008      Turner, William C.  01/01/2021   \n",
       "\n",
       "                                   type         status bond_amt  \\\n",
       "0                    Misdemeanor Arrest       Disposed      0.0   \n",
       "1                    Misdemeanor Arrest       Disposed    250.0   \n",
       "2                    Felony Arrest Drug  Held to State   3500.0   \n",
       "3                    Misdemeanor Arrest       Disposed      0.0   \n",
       "4  Misdemeanor Arrest Domestic Violence       Disposed   1500.0   \n",
       "\n",
       "     bond_status  era  log_bond  \n",
       "0         Posted  0.0  0.000000  \n",
       "1  Case Disposed  0.0  5.525453  \n",
       "2  Held To State  0.0  8.160804  \n",
       "3         Posted  0.0  0.000000  \n",
       "4  Case Disposed  0.0  7.313887  \n",
       "\n",
       "[5 rows x 24 columns]"
      ]
     },
     "execution_count": 7,
     "metadata": {},
     "output_type": "execute_result"
    }
   ],
   "source": [
    "cases.head()"
   ]
  },
  {
   "cell_type": "code",
   "execution_count": 8,
   "id": "2d7f2fd7",
   "metadata": {},
   "outputs": [],
   "source": [
    "cases['ror'] = cases['bond_amt'].apply(lambda x: 1 if x == 0 else 0)"
   ]
  },
  {
   "cell_type": "code",
   "execution_count": 10,
   "id": "07af7968",
   "metadata": {},
   "outputs": [
    {
     "data": {
      "text/plain": [
       "cl                0\n",
       "hom               0\n",
       "gun               0\n",
       "rape              0\n",
       "sex               0\n",
       "robb              0\n",
       "burg              0\n",
       "driv              0\n",
       "ch                0\n",
       "name              0\n",
       "dob              25\n",
       "race              0\n",
       "zip            5858\n",
       "atty           2858\n",
       "retained       2858\n",
       "case_no           0\n",
       "judge             0\n",
       "date              0\n",
       "type              0\n",
       "status          282\n",
       "bond_amt          0\n",
       "bond_status       0\n",
       "era               0\n",
       "log_bond          0\n",
       "ror               0\n",
       "dtype: int64"
      ]
     },
     "execution_count": 10,
     "metadata": {},
     "output_type": "execute_result"
    }
   ],
   "source": [
    "cases.isnull().sum().head(50)"
   ]
  },
  {
   "cell_type": "code",
   "execution_count": 45,
   "id": "c71ed631",
   "metadata": {},
   "outputs": [],
   "source": [
    "X = cases[['ch','race']]"
   ]
  },
  {
   "cell_type": "code",
   "execution_count": 46,
   "id": "133ec497",
   "metadata": {},
   "outputs": [],
   "source": [
    "y = cases['ror']"
   ]
  },
  {
   "cell_type": "code",
   "execution_count": 47,
   "id": "ee8b6a21",
   "metadata": {},
   "outputs": [],
   "source": [
    "ohe = OneHotEncoder()\n",
    "X = ohe.fit_transform(X).toarray()"
   ]
  },
  {
   "cell_type": "code",
   "execution_count": 48,
   "id": "b3c8c3fb",
   "metadata": {},
   "outputs": [],
   "source": [
    "X = pd.DataFrame(X, columns=ohe.get_feature_names_out())"
   ]
  },
  {
   "cell_type": "code",
   "execution_count": null,
   "id": "7b05bc2e",
   "metadata": {},
   "outputs": [],
   "source": []
  },
  {
   "cell_type": "code",
   "execution_count": null,
   "id": "64e81e24",
   "metadata": {},
   "outputs": [],
   "source": []
  },
  {
   "cell_type": "code",
   "execution_count": 49,
   "id": "fd13a473",
   "metadata": {},
   "outputs": [],
   "source": [
    "X_train,X_test,y_train,y_test = train_test_split(X, y, stratify=y, random_state=42)"
   ]
  },
  {
   "cell_type": "code",
   "execution_count": 50,
   "id": "eca9728a",
   "metadata": {},
   "outputs": [
    {
     "data": {
      "text/plain": [
       "((4887, 1301), (1629, 1301), (4887,), (1629,))"
      ]
     },
     "execution_count": 50,
     "metadata": {},
     "output_type": "execute_result"
    }
   ],
   "source": [
    "X_train.shape,X_test.shape,y_train.shape,y_test.shape"
   ]
  },
  {
   "cell_type": "code",
   "execution_count": null,
   "id": "003c62ce",
   "metadata": {},
   "outputs": [],
   "source": []
  },
  {
   "cell_type": "code",
   "execution_count": 51,
   "id": "bc84a3c1",
   "metadata": {},
   "outputs": [],
   "source": [
    "base = [0]*len(y_test)"
   ]
  },
  {
   "cell_type": "code",
   "execution_count": 52,
   "id": "8921be4e",
   "metadata": {},
   "outputs": [
    {
     "data": {
      "text/plain": [
       "array([[899,   0],\n",
       "       [730,   0]], dtype=int64)"
      ]
     },
     "execution_count": 52,
     "metadata": {},
     "output_type": "execute_result"
    }
   ],
   "source": [
    "confusion_matrix(y_test,base)"
   ]
  },
  {
   "cell_type": "code",
   "execution_count": 53,
   "id": "310efced",
   "metadata": {},
   "outputs": [
    {
     "name": "stderr",
     "output_type": "stream",
     "text": [
      "C:\\Anaconda\\envs\\tfm1\\lib\\site-packages\\sklearn\\linear_model\\_logistic.py:458: ConvergenceWarning: lbfgs failed to converge (status=1):\n",
      "STOP: TOTAL NO. of ITERATIONS REACHED LIMIT.\n",
      "\n",
      "Increase the number of iterations (max_iter) or scale the data as shown in:\n",
      "    https://scikit-learn.org/stable/modules/preprocessing.html\n",
      "Please also refer to the documentation for alternative solver options:\n",
      "    https://scikit-learn.org/stable/modules/linear_model.html#logistic-regression\n",
      "  n_iter_i = _check_optimize_result(\n"
     ]
    },
    {
     "data": {
      "text/plain": [
       "array([[731, 168],\n",
       "       [575, 155]], dtype=int64)"
      ]
     },
     "execution_count": 53,
     "metadata": {},
     "output_type": "execute_result"
    }
   ],
   "source": [
    "logr = LogisticRegression(C=1000)\n",
    "logr.fit(X_train,y_train)\n",
    "confusion_matrix(y_test,logr.predict(X_test))"
   ]
  },
  {
   "cell_type": "code",
   "execution_count": 54,
   "id": "6a89b3f2",
   "metadata": {},
   "outputs": [
    {
     "data": {
      "text/plain": [
       "array([[619, 280],\n",
       "       [500, 230]], dtype=int64)"
      ]
     },
     "execution_count": 54,
     "metadata": {},
     "output_type": "execute_result"
    }
   ],
   "source": [
    "knn = KNeighborsClassifier(n_neighbors = 5)\n",
    "knn.fit(X_train,y_train)\n",
    "confusion_matrix(y_test,knn.predict(X_test))"
   ]
  },
  {
   "cell_type": "code",
   "execution_count": 55,
   "id": "ac7f4743",
   "metadata": {},
   "outputs": [
    {
     "data": {
      "text/plain": [
       "array([[ 39, 860],\n",
       "       [ 35, 695]], dtype=int64)"
      ]
     },
     "execution_count": 55,
     "metadata": {},
     "output_type": "execute_result"
    }
   ],
   "source": [
    "gnb = GaussianNB()\n",
    "gnb.fit(X_train,y_train)\n",
    "confusion_matrix(y_test,gnb.predict(X_test))"
   ]
  },
  {
   "cell_type": "code",
   "execution_count": 56,
   "id": "84733d46",
   "metadata": {},
   "outputs": [
    {
     "data": {
      "text/plain": [
       "array([[811,  88],\n",
       "       [647,  83]], dtype=int64)"
      ]
     },
     "execution_count": 56,
     "metadata": {},
     "output_type": "execute_result"
    }
   ],
   "source": [
    "mnb = MultinomialNB()\n",
    "mnb.fit(X_train,y_train)\n",
    "confusion_matrix(y_test,mnb.predict(X_test))"
   ]
  },
  {
   "cell_type": "code",
   "execution_count": 57,
   "id": "d3c2a07f",
   "metadata": {},
   "outputs": [
    {
     "data": {
      "text/plain": [
       "array([[813,  86],\n",
       "       [646,  84]], dtype=int64)"
      ]
     },
     "execution_count": 57,
     "metadata": {},
     "output_type": "execute_result"
    }
   ],
   "source": [
    "bnb = BernoulliNB()\n",
    "bnb.fit(X_train,y_train)\n",
    "confusion_matrix(y_test,bnb.predict(X_test))"
   ]
  },
  {
   "cell_type": "code",
   "execution_count": 58,
   "id": "56eed006",
   "metadata": {},
   "outputs": [
    {
     "data": {
      "text/plain": [
       "array([[710, 189],\n",
       "       [583, 147]], dtype=int64)"
      ]
     },
     "execution_count": 58,
     "metadata": {},
     "output_type": "execute_result"
    }
   ],
   "source": [
    "dt = DecisionTreeClassifier()\n",
    "dt.fit(X_train,y_train)\n",
    "confusion_matrix(y_test,dt.predict(X_test))"
   ]
  },
  {
   "cell_type": "code",
   "execution_count": 220,
   "id": "5180fc74",
   "metadata": {
    "scrolled": false
   },
   "outputs": [
    {
     "data": {
      "text/plain": [
       "array([[836,  63],\n",
       "       [678,  52]], dtype=int64)"
      ]
     },
     "execution_count": 220,
     "metadata": {},
     "output_type": "execute_result"
    }
   ],
   "source": [
    "rf = RandomForestClassifier()\n",
    "rf.fit(X_train,y_train)\n",
    "confusion_matrix(y_test,rf.predict(X_test))"
   ]
  },
  {
   "cell_type": "code",
   "execution_count": 275,
   "id": "c7dd3c42",
   "metadata": {},
   "outputs": [],
   "source": [
    "from sklearn.svm import SVC"
   ]
  },
  {
   "cell_type": "code",
   "execution_count": null,
   "id": "d6163de6",
   "metadata": {},
   "outputs": [],
   "source": [
    "svc = SVC(kernel = 'linear')\n",
    "svc.fit(X_train,y_train)\n",
    "confusion_matrix(y_test,svc.predict(X_test))"
   ]
  },
  {
   "cell_type": "code",
   "execution_count": null,
   "id": "47b6127f",
   "metadata": {},
   "outputs": [],
   "source": [
    "abc = AdaBoostClassifier(n_estimators = 50)\n",
    "abc.fit(X_train,y_train)\n",
    "confusion_matrix(y_test,abc.predict(X_test))"
   ]
  },
  {
   "cell_type": "code",
   "execution_count": 88,
   "id": "4dfd58a8",
   "metadata": {},
   "outputs": [],
   "source": [
    "from tensorflow.keras.models import Sequential\n",
    "from tensorflow.keras.layers import Dense, Dropout\n",
    "from tensorflow.keras.utils import to_categorical\n",
    "from tensorflow.keras.metrics import Recall, Precision"
   ]
  },
  {
   "cell_type": "code",
   "execution_count": 107,
   "id": "9431bdba",
   "metadata": {},
   "outputs": [],
   "source": [
    "model = Sequential()\n",
    "model.add(Dense(32,activation = 'relu'))\n",
    "model.add(Dense(16, activation = 'relu'))\n",
    "model.add(Dense(1,activation = 'sigmoid'))\n",
    "model.compile(loss='binary_crossentropy',optimizer='adam',metrics = [Precision()])"
   ]
  },
  {
   "cell_type": "code",
   "execution_count": 108,
   "id": "eddbe72d",
   "metadata": {},
   "outputs": [
    {
     "name": "stdout",
     "output_type": "stream",
     "text": [
      "Epoch 1/50\n",
      "136/136 [==============================] - 2s 5ms/step - loss: 0.6899 - precision: 0.4469 - val_loss: 0.6879 - val_precision: 0.0000e+00\n",
      "Epoch 2/50\n",
      "136/136 [==============================] - 0s 2ms/step - loss: 0.6848 - precision: 0.6000 - val_loss: 0.6886 - val_precision: 0.5484\n",
      "Epoch 3/50\n",
      "136/136 [==============================] - 0s 3ms/step - loss: 0.6764 - precision: 0.6176 - val_loss: 0.6924 - val_precision: 0.4519\n",
      "Epoch 4/50\n",
      "136/136 [==============================] - 0s 3ms/step - loss: 0.6547 - precision: 0.6211 - val_loss: 0.7057 - val_precision: 0.4457\n",
      "Epoch 5/50\n",
      "136/136 [==============================] - 0s 3ms/step - loss: 0.6249 - precision: 0.6288 - val_loss: 0.7206 - val_precision: 0.4506\n",
      "Epoch 6/50\n",
      "136/136 [==============================] - 0s 3ms/step - loss: 0.5935 - precision: 0.6385 - val_loss: 0.7430 - val_precision: 0.4495\n",
      "Epoch 7/50\n",
      "136/136 [==============================] - 0s 3ms/step - loss: 0.5789 - precision: 0.6302 - val_loss: 0.7638 - val_precision: 0.4513\n",
      "Epoch 8/50\n",
      "136/136 [==============================] - 0s 3ms/step - loss: 0.5656 - precision: 0.6337 - val_loss: 0.7722 - val_precision: 0.4448\n",
      "Epoch 9/50\n",
      "136/136 [==============================] - 0s 3ms/step - loss: 0.5603 - precision: 0.6319 - val_loss: 0.7832 - val_precision: 0.4533\n",
      "Epoch 10/50\n",
      "136/136 [==============================] - 0s 3ms/step - loss: 0.5542 - precision: 0.6429 - val_loss: 0.7944 - val_precision: 0.4523\n",
      "Epoch 11/50\n",
      "136/136 [==============================] - 0s 3ms/step - loss: 0.5496 - precision: 0.6525 - val_loss: 0.8088 - val_precision: 0.4512\n",
      "Epoch 12/50\n",
      "136/136 [==============================] - 0s 3ms/step - loss: 0.5462 - precision: 0.6446 - val_loss: 0.8130 - val_precision: 0.4345\n",
      "Epoch 13/50\n",
      "136/136 [==============================] - 0s 3ms/step - loss: 0.5450 - precision: 0.6477 - val_loss: 0.8252 - val_precision: 0.4419\n",
      "Epoch 14/50\n",
      "136/136 [==============================] - 0s 3ms/step - loss: 0.5443 - precision: 0.6309 - val_loss: 0.8574 - val_precision: 0.4557\n",
      "Epoch 15/50\n",
      "136/136 [==============================] - 0s 2ms/step - loss: 0.5432 - precision: 0.6393 - val_loss: 0.8350 - val_precision: 0.4405\n",
      "Epoch 16/50\n",
      "136/136 [==============================] - 0s 2ms/step - loss: 0.5418 - precision: 0.6343 - val_loss: 0.8348 - val_precision: 0.4417\n",
      "Epoch 17/50\n",
      "136/136 [==============================] - 0s 2ms/step - loss: 0.5394 - precision: 0.6594 - val_loss: 0.8428 - val_precision: 0.4511\n",
      "Epoch 18/50\n",
      "136/136 [==============================] - 0s 3ms/step - loss: 0.5387 - precision: 0.6612 - val_loss: 0.8505 - val_precision: 0.4349\n",
      "Epoch 19/50\n",
      "136/136 [==============================] - 0s 3ms/step - loss: 0.5394 - precision: 0.6478 - val_loss: 0.8571 - val_precision: 0.4382\n",
      "Epoch 20/50\n",
      "136/136 [==============================] - 0s 2ms/step - loss: 0.5385 - precision: 0.6594 - val_loss: 0.8642 - val_precision: 0.4551\n",
      "Epoch 21/50\n",
      "136/136 [==============================] - 0s 3ms/step - loss: 0.5368 - precision: 0.6538 - val_loss: 0.8594 - val_precision: 0.4362\n",
      "Epoch 22/50\n",
      "136/136 [==============================] - 0s 3ms/step - loss: 0.5366 - precision: 0.6515 - val_loss: 0.8626 - val_precision: 0.4407\n",
      "Epoch 23/50\n",
      "136/136 [==============================] - 0s 3ms/step - loss: 0.5367 - precision: 0.6567 - val_loss: 0.8794 - val_precision: 0.4397\n",
      "Epoch 24/50\n",
      "136/136 [==============================] - 0s 2ms/step - loss: 0.5355 - precision: 0.6502 - val_loss: 0.8680 - val_precision: 0.4416\n",
      "Epoch 25/50\n",
      "136/136 [==============================] - 0s 2ms/step - loss: 0.5352 - precision: 0.6582 - val_loss: 0.8739 - val_precision: 0.4505\n",
      "Epoch 26/50\n",
      "136/136 [==============================] - 0s 2ms/step - loss: 0.5353 - precision: 0.6504 - val_loss: 0.8787 - val_precision: 0.4491\n",
      "Epoch 27/50\n",
      "136/136 [==============================] - 0s 3ms/step - loss: 0.5356 - precision: 0.6637 - val_loss: 0.8782 - val_precision: 0.4595\n",
      "Epoch 28/50\n",
      "136/136 [==============================] - 0s 2ms/step - loss: 0.5360 - precision: 0.6577 - val_loss: 0.8830 - val_precision: 0.4429\n",
      "Epoch 29/50\n",
      "136/136 [==============================] - 0s 2ms/step - loss: 0.5349 - precision: 0.6528 - val_loss: 0.8797 - val_precision: 0.4396\n",
      "Epoch 30/50\n",
      "136/136 [==============================] - 0s 3ms/step - loss: 0.5332 - precision: 0.6790 - val_loss: 0.8938 - val_precision: 0.4530\n",
      "Epoch 31/50\n",
      "136/136 [==============================] - 0s 3ms/step - loss: 0.5349 - precision: 0.6313 - val_loss: 0.8889 - val_precision: 0.4376\n",
      "Epoch 32/50\n",
      "136/136 [==============================] - 0s 2ms/step - loss: 0.5358 - precision: 0.6394 - val_loss: 0.8899 - val_precision: 0.4459\n",
      "Epoch 33/50\n",
      "136/136 [==============================] - 0s 2ms/step - loss: 0.5343 - precision: 0.6452 - val_loss: 0.8882 - val_precision: 0.4400\n",
      "Epoch 34/50\n",
      "136/136 [==============================] - 0s 2ms/step - loss: 0.5332 - precision: 0.6674 - val_loss: 0.8934 - val_precision: 0.4328\n",
      "Epoch 35/50\n",
      "136/136 [==============================] - 0s 2ms/step - loss: 0.5334 - precision: 0.6507 - val_loss: 0.8976 - val_precision: 0.4443\n",
      "Epoch 36/50\n",
      "136/136 [==============================] - 0s 3ms/step - loss: 0.5327 - precision: 0.6512 - val_loss: 0.8976 - val_precision: 0.4530\n",
      "Epoch 37/50\n",
      "136/136 [==============================] - 0s 2ms/step - loss: 0.5332 - precision: 0.6615 - val_loss: 0.8987 - val_precision: 0.4397\n",
      "Epoch 38/50\n",
      "136/136 [==============================] - 0s 3ms/step - loss: 0.5321 - precision: 0.6520 - val_loss: 0.9076 - val_precision: 0.4481\n",
      "Epoch 39/50\n",
      "136/136 [==============================] - 0s 3ms/step - loss: 0.5316 - precision: 0.6803 - val_loss: 0.9091 - val_precision: 0.4375\n",
      "Epoch 40/50\n",
      "136/136 [==============================] - 0s 3ms/step - loss: 0.5320 - precision: 0.6320 - val_loss: 0.9051 - val_precision: 0.4437\n",
      "Epoch 41/50\n",
      "136/136 [==============================] - 0s 3ms/step - loss: 0.5319 - precision: 0.6646 - val_loss: 0.9077 - val_precision: 0.4360\n",
      "Epoch 42/50\n",
      "136/136 [==============================] - 0s 3ms/step - loss: 0.5304 - precision: 0.6693 - val_loss: 0.9209 - val_precision: 0.4543\n",
      "Epoch 43/50\n",
      "136/136 [==============================] - 0s 3ms/step - loss: 0.5317 - precision: 0.6484 - val_loss: 0.9127 - val_precision: 0.4454\n",
      "Epoch 44/50\n",
      "136/136 [==============================] - 0s 2ms/step - loss: 0.5317 - precision: 0.6642 - val_loss: 0.9133 - val_precision: 0.4539\n",
      "Epoch 45/50\n",
      "136/136 [==============================] - 0s 3ms/step - loss: 0.5313 - precision: 0.6710 - val_loss: 0.9182 - val_precision: 0.4456\n",
      "Epoch 46/50\n",
      "136/136 [==============================] - 0s 3ms/step - loss: 0.5318 - precision: 0.6641 - val_loss: 0.9239 - val_precision: 0.4470\n",
      "Epoch 47/50\n",
      "136/136 [==============================] - 0s 3ms/step - loss: 0.5300 - precision: 0.6664 - val_loss: 0.9156 - val_precision: 0.4377\n",
      "Epoch 48/50\n",
      "136/136 [==============================] - 0s 2ms/step - loss: 0.5310 - precision: 0.6631 - val_loss: 0.9216 - val_precision: 0.4534\n",
      "Epoch 49/50\n",
      "136/136 [==============================] - 0s 3ms/step - loss: 0.5301 - precision: 0.6716 - val_loss: 0.9217 - val_precision: 0.4426\n",
      "Epoch 50/50\n",
      "136/136 [==============================] - 0s 3ms/step - loss: 0.5316 - precision: 0.6771 - val_loss: 0.9247 - val_precision: 0.4432\n"
     ]
    },
    {
     "data": {
      "text/plain": [
       "<keras.callbacks.History at 0x265c5b01340>"
      ]
     },
     "execution_count": 108,
     "metadata": {},
     "output_type": "execute_result"
    }
   ],
   "source": [
    "model.fit(X_train,y_train,validation_data=(X_test, y_test), epochs = 50, batch_size = 36)"
   ]
  },
  {
   "cell_type": "code",
   "execution_count": 109,
   "id": "fb81d1fd",
   "metadata": {},
   "outputs": [
    {
     "name": "stdout",
     "output_type": "stream",
     "text": [
      "51/51 [==============================] - 0s 1ms/step - loss: 0.9247 - precision: 0.4432\n"
     ]
    },
    {
     "data": {
      "text/plain": [
       "[0.9246808886528015, 0.4432132840156555]"
      ]
     },
     "execution_count": 109,
     "metadata": {},
     "output_type": "execute_result"
    }
   ],
   "source": [
    "model.evaluate(X_test,y_test)"
   ]
  },
  {
   "cell_type": "code",
   "execution_count": 110,
   "id": "1a9c5cc9",
   "metadata": {},
   "outputs": [
    {
     "name": "stdout",
     "output_type": "stream",
     "text": [
      "51/51 [==============================] - 0s 1ms/step\n"
     ]
    }
   ],
   "source": [
    "y_pred = model.predict(X_test) > 0.45"
   ]
  },
  {
   "cell_type": "code",
   "execution_count": 111,
   "id": "e77eef86",
   "metadata": {},
   "outputs": [
    {
     "data": {
      "text/plain": [
       "array([[314, 585],\n",
       "       [244, 486]], dtype=int64)"
      ]
     },
     "execution_count": 111,
     "metadata": {},
     "output_type": "execute_result"
    }
   ],
   "source": [
    "confusion_matrix(y_test,y_pred)"
   ]
  },
  {
   "cell_type": "code",
   "execution_count": null,
   "id": "05d03426",
   "metadata": {},
   "outputs": [],
   "source": []
  },
  {
   "cell_type": "code",
   "execution_count": null,
   "id": "68b97788",
   "metadata": {},
   "outputs": [],
   "source": []
  },
  {
   "cell_type": "code",
   "execution_count": null,
   "id": "b1677ca1",
   "metadata": {},
   "outputs": [],
   "source": []
  }
 ],
 "metadata": {
  "kernelspec": {
   "display_name": "Python 3 (ipykernel)",
   "language": "python",
   "name": "python3"
  },
  "language_info": {
   "codemirror_mode": {
    "name": "ipython",
    "version": 3
   },
   "file_extension": ".py",
   "mimetype": "text/x-python",
   "name": "python",
   "nbconvert_exporter": "python",
   "pygments_lexer": "ipython3",
   "version": "3.9.16"
  }
 },
 "nbformat": 4,
 "nbformat_minor": 5
}
