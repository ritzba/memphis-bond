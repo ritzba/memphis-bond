{
 "cells": [
  {
   "cell_type": "code",
   "execution_count": 16,
   "id": "55364bf9-962c-4729-aac4-81345e8f0fcd",
   "metadata": {},
   "outputs": [],
   "source": [
    "import pandas as pd\n",
    "import numpy as np\n",
    "import matplotlib.pyplot as plt\n",
    "import seaborn as sns\n",
    "sns.set()"
   ]
  },
  {
   "cell_type": "code",
   "execution_count": 17,
   "id": "b883aca1-ed67-4c47-8781-773d0131b427",
   "metadata": {},
   "outputs": [],
   "source": [
    "from sklearn.model_selection import train_test_split, GridSearchCV\n",
    "from sklearn.linear_model import LinearRegression, Lasso, ElasticNet, Ridge"
   ]
  },
  {
   "cell_type": "code",
   "execution_count": 18,
   "id": "ce1d659a-1f4e-46ba-8aff-20563650dd06",
   "metadata": {},
   "outputs": [],
   "source": [
    "from sklearn.neighbors import KNeighborsRegressor"
   ]
  },
  {
   "cell_type": "code",
   "execution_count": 19,
   "id": "2f057509-1e96-4390-bc48-7218b5de46cc",
   "metadata": {},
   "outputs": [],
   "source": [
    "from sklearn.tree import DecisionTreeRegressor\n",
    "from sklearn.ensemble import RandomForestRegressor, AdaBoostRegressor"
   ]
  },
  {
   "cell_type": "code",
   "execution_count": 20,
   "id": "8a0ae4c0-30d4-400d-8a45-14902c57dec4",
   "metadata": {},
   "outputs": [],
   "source": [
    "from sklearn.preprocessing import OneHotEncoder, StandardScaler"
   ]
  },
  {
   "cell_type": "code",
   "execution_count": 21,
   "id": "3c0f10df-378d-4234-935a-05636848c38c",
   "metadata": {},
   "outputs": [],
   "source": [
    "import pandas as pd\n",
    "import numpy as np\n",
    "import matplotlib.pyplot as plt\n",
    "import seaborn as sns\n",
    "sns.set()\n",
    "\n",
    "from sklearn.model_selection import train_test_split, cross_val_score, GridSearchCV\n",
    "from sklearn.linear_model import LinearRegression, ElasticNet, LogisticRegression\n",
    "from sklearn.neighbors import KNeighborsClassifier, KNeighborsRegressor\n",
    "from sklearn.tree import DecisionTreeClassifier, DecisionTreeRegressor\n",
    "from sklearn.ensemble import RandomForestClassifier, RandomForestRegressor,AdaBoostClassifier, AdaBoostRegressor, BaggingRegressor, BaggingClassifier\n",
    "from sklearn.svm import SVR, SVC\n",
    "import xgboost as kg\n",
    "\n",
    "from sklearn.pipeline import Pipeline\n",
    "from sklearn.compose import ColumnTransformer\n",
    "from sklearn.preprocessing import StandardScaler, PolynomialFeatures\n",
    "from sklearn.metrics import mean_squared_error, f1_score"
   ]
  },
  {
   "cell_type": "code",
   "execution_count": 22,
   "id": "a3a6761f-9c4e-49ee-8674-0ae0070f695f",
   "metadata": {},
   "outputs": [],
   "source": [
    "cases = pd.read_csv('bonds.csv')"
   ]
  },
  {
   "cell_type": "code",
   "execution_count": 23,
   "id": "6e9ab95f-fb50-4a64-962d-9c9c47cf95bd",
   "metadata": {},
   "outputs": [
    {
     "name": "stdout",
     "output_type": "stream",
     "text": [
      "<class 'pandas.core.frame.DataFrame'>\n",
      "RangeIndex: 3597 entries, 0 to 3596\n",
      "Data columns (total 17 columns):\n",
      " #   Column       Non-Null Count  Dtype  \n",
      "---  ------       --------------  -----  \n",
      " 0   cl           3597 non-null   object \n",
      " 1   ch           3597 non-null   object \n",
      " 2   name         3597 non-null   object \n",
      " 3   dob          3584 non-null   object \n",
      " 4   race         3597 non-null   object \n",
      " 5   zip          363 non-null    object \n",
      " 6   atty         2061 non-null   object \n",
      " 7   retained     2061 non-null   object \n",
      " 8   case_no      3597 non-null   int64  \n",
      " 9   judge        3597 non-null   object \n",
      " 10  date         3597 non-null   object \n",
      " 11  type         3597 non-null   object \n",
      " 12  status       3444 non-null   object \n",
      " 13  bond_amt     3597 non-null   float64\n",
      " 14  bond_status  3597 non-null   object \n",
      " 15  era          3597 non-null   float64\n",
      " 16  log_bond     3597 non-null   float64\n",
      "dtypes: float64(3), int64(1), object(13)\n",
      "memory usage: 477.9+ KB\n"
     ]
    }
   ],
   "source": [
    "cases.info()"
   ]
  },
  {
   "cell_type": "code",
   "execution_count": 24,
   "id": "bce3062f",
   "metadata": {},
   "outputs": [
    {
     "data": {
      "text/html": [
       "<div>\n",
       "<style scoped>\n",
       "    .dataframe tbody tr th:only-of-type {\n",
       "        vertical-align: middle;\n",
       "    }\n",
       "\n",
       "    .dataframe tbody tr th {\n",
       "        vertical-align: top;\n",
       "    }\n",
       "\n",
       "    .dataframe thead th {\n",
       "        text-align: right;\n",
       "    }\n",
       "</style>\n",
       "<table border=\"1\" class=\"dataframe\">\n",
       "  <thead>\n",
       "    <tr style=\"text-align: right;\">\n",
       "      <th></th>\n",
       "      <th>cl</th>\n",
       "      <th>ch</th>\n",
       "      <th>name</th>\n",
       "      <th>dob</th>\n",
       "      <th>race</th>\n",
       "      <th>zip</th>\n",
       "      <th>atty</th>\n",
       "      <th>retained</th>\n",
       "      <th>case_no</th>\n",
       "      <th>judge</th>\n",
       "      <th>date</th>\n",
       "      <th>type</th>\n",
       "      <th>status</th>\n",
       "      <th>bond_amt</th>\n",
       "      <th>bond_status</th>\n",
       "      <th>era</th>\n",
       "      <th>log_bond</th>\n",
       "    </tr>\n",
       "  </thead>\n",
       "  <tbody>\n",
       "    <tr>\n",
       "      <th>0</th>\n",
       "      <td>{'Misdemeanor A'}</td>\n",
       "      <td>{'39-17-418'}</td>\n",
       "      <td>BLACK, DAJAVANTAY J</td>\n",
       "      <td>2001-01-17</td>\n",
       "      <td>Black</td>\n",
       "      <td>NaN</td>\n",
       "      <td>Harris, Jayniece</td>\n",
       "      <td>Harris, Jayniece</td>\n",
       "      <td>21000003</td>\n",
       "      <td>Anderson, William Bill</td>\n",
       "      <td>01/01/2021</td>\n",
       "      <td>Misdemeanor Arrest</td>\n",
       "      <td>Disposed</td>\n",
       "      <td>250.0</td>\n",
       "      <td>Case Disposed</td>\n",
       "      <td>0.0</td>\n",
       "      <td>5.525453</td>\n",
       "    </tr>\n",
       "    <tr>\n",
       "      <th>1</th>\n",
       "      <td>{'Felony A'}</td>\n",
       "      <td>{'39-17-434'}</td>\n",
       "      <td>BASS, GARRISON</td>\n",
       "      <td>1987-10-01</td>\n",
       "      <td>White</td>\n",
       "      <td>NaN</td>\n",
       "      <td>MATTHEWS, JASON</td>\n",
       "      <td>Retained</td>\n",
       "      <td>21000004</td>\n",
       "      <td>Dwyer, Tim</td>\n",
       "      <td>01/01/2021</td>\n",
       "      <td>Felony Arrest Drug</td>\n",
       "      <td>Held to State</td>\n",
       "      <td>3500.0</td>\n",
       "      <td>Held To State</td>\n",
       "      <td>0.0</td>\n",
       "      <td>8.160804</td>\n",
       "    </tr>\n",
       "    <tr>\n",
       "      <th>2</th>\n",
       "      <td>{'Misdemeanor A'}</td>\n",
       "      <td>{'39-13-111'}</td>\n",
       "      <td>CROCKER, CHAD</td>\n",
       "      <td>1968-12-19</td>\n",
       "      <td>White</td>\n",
       "      <td>NaN</td>\n",
       "      <td>BRASHIER, KENNETH W</td>\n",
       "      <td>BRASHIER, KENNETH W</td>\n",
       "      <td>21000008</td>\n",
       "      <td>Turner, William C.</td>\n",
       "      <td>01/01/2021</td>\n",
       "      <td>Misdemeanor Arrest Domestic Violence</td>\n",
       "      <td>Disposed</td>\n",
       "      <td>1500.0</td>\n",
       "      <td>Case Disposed</td>\n",
       "      <td>0.0</td>\n",
       "      <td>7.313887</td>\n",
       "    </tr>\n",
       "    <tr>\n",
       "      <th>3</th>\n",
       "      <td>{'Misdemeanor A'}</td>\n",
       "      <td>{'55-10-401'}</td>\n",
       "      <td>DAVIS, LAQUINCY</td>\n",
       "      <td>1984-04-01</td>\n",
       "      <td>Black</td>\n",
       "      <td>NaN</td>\n",
       "      <td>JONES, JEFFREY HUDSON</td>\n",
       "      <td>Retained</td>\n",
       "      <td>21000011</td>\n",
       "      <td>Lucchesi, Ronald</td>\n",
       "      <td>01/01/2021</td>\n",
       "      <td>Misdemeanor Arrest</td>\n",
       "      <td>Disposed</td>\n",
       "      <td>500.0</td>\n",
       "      <td>Case Disposed</td>\n",
       "      <td>0.0</td>\n",
       "      <td>6.216606</td>\n",
       "    </tr>\n",
       "    <tr>\n",
       "      <th>4</th>\n",
       "      <td>{'Misdemeanor A'}</td>\n",
       "      <td>{'39-13-111'}</td>\n",
       "      <td>CALVIN, DARRIUS JAVON</td>\n",
       "      <td>1998-09-25</td>\n",
       "      <td>Black</td>\n",
       "      <td>NaN</td>\n",
       "      <td>NaN</td>\n",
       "      <td>NaN</td>\n",
       "      <td>21000015</td>\n",
       "      <td>Turner, William C.</td>\n",
       "      <td>01/01/2021</td>\n",
       "      <td>Misdemeanor Arrest Domestic Violence</td>\n",
       "      <td>Disposed</td>\n",
       "      <td>2500.0</td>\n",
       "      <td>Case Disposed</td>\n",
       "      <td>0.0</td>\n",
       "      <td>7.824446</td>\n",
       "    </tr>\n",
       "    <tr>\n",
       "      <th>...</th>\n",
       "      <td>...</td>\n",
       "      <td>...</td>\n",
       "      <td>...</td>\n",
       "      <td>...</td>\n",
       "      <td>...</td>\n",
       "      <td>...</td>\n",
       "      <td>...</td>\n",
       "      <td>...</td>\n",
       "      <td>...</td>\n",
       "      <td>...</td>\n",
       "      <td>...</td>\n",
       "      <td>...</td>\n",
       "      <td>...</td>\n",
       "      <td>...</td>\n",
       "      <td>...</td>\n",
       "      <td>...</td>\n",
       "      <td>...</td>\n",
       "    </tr>\n",
       "    <tr>\n",
       "      <th>3592</th>\n",
       "      <td>{'Misdemeanor A'}</td>\n",
       "      <td>{'39-13-111'}</td>\n",
       "      <td>SELDON, JAMES</td>\n",
       "      <td>1980-10-31</td>\n",
       "      <td>Black</td>\n",
       "      <td>NaN</td>\n",
       "      <td>NaN</td>\n",
       "      <td>NaN</td>\n",
       "      <td>23005324</td>\n",
       "      <td>Gilbert, Greg</td>\n",
       "      <td>04/07/2023</td>\n",
       "      <td>Misdemeanor Arrest Domestic Violence</td>\n",
       "      <td>Active or Open</td>\n",
       "      <td>10000.0</td>\n",
       "      <td>Posted</td>\n",
       "      <td>0.0</td>\n",
       "      <td>9.210440</td>\n",
       "    </tr>\n",
       "    <tr>\n",
       "      <th>3593</th>\n",
       "      <td>{'Misdemeanor A'}</td>\n",
       "      <td>{'39-16-603'}</td>\n",
       "      <td>WELLS, MONTRELL</td>\n",
       "      <td>1986-04-11</td>\n",
       "      <td>Black</td>\n",
       "      <td>NaN</td>\n",
       "      <td>NaN</td>\n",
       "      <td>NaN</td>\n",
       "      <td>23005328</td>\n",
       "      <td>Renfroe, Sheila B.</td>\n",
       "      <td>04/07/2023</td>\n",
       "      <td>Misdemeanor Arrest</td>\n",
       "      <td>Disposed</td>\n",
       "      <td>2500.0</td>\n",
       "      <td>Posted</td>\n",
       "      <td>0.0</td>\n",
       "      <td>7.824446</td>\n",
       "    </tr>\n",
       "    <tr>\n",
       "      <th>3594</th>\n",
       "      <td>{'Misdemeanor A'}</td>\n",
       "      <td>{'39-14-408'}</td>\n",
       "      <td>BRITT, DAVIA</td>\n",
       "      <td>1995-11-17</td>\n",
       "      <td>Black</td>\n",
       "      <td>NaN</td>\n",
       "      <td>NaN</td>\n",
       "      <td>NaN</td>\n",
       "      <td>23005331</td>\n",
       "      <td>Other</td>\n",
       "      <td>04/07/2023</td>\n",
       "      <td>State Warrant</td>\n",
       "      <td>Active or Open</td>\n",
       "      <td>750.0</td>\n",
       "      <td>Posted</td>\n",
       "      <td>0.0</td>\n",
       "      <td>6.621406</td>\n",
       "    </tr>\n",
       "    <tr>\n",
       "      <th>3595</th>\n",
       "      <td>{'Felony E'}</td>\n",
       "      <td>{'40-39-208'}</td>\n",
       "      <td>MCKINNEY, RICKEY</td>\n",
       "      <td>1968-02-19</td>\n",
       "      <td>Black</td>\n",
       "      <td>MEMPHIS TN 38127</td>\n",
       "      <td>NaN</td>\n",
       "      <td>NaN</td>\n",
       "      <td>23005335</td>\n",
       "      <td>Other</td>\n",
       "      <td>04/07/2023</td>\n",
       "      <td>State Warrant</td>\n",
       "      <td>Active or Open</td>\n",
       "      <td>2000.0</td>\n",
       "      <td>Posted</td>\n",
       "      <td>0.0</td>\n",
       "      <td>7.601402</td>\n",
       "    </tr>\n",
       "    <tr>\n",
       "      <th>3596</th>\n",
       "      <td>{'Misdemeanor B', 'Misdemeanor A'}</td>\n",
       "      <td>{'39-14-146', '39-16-602'}</td>\n",
       "      <td>MATTHEWS, LEVON</td>\n",
       "      <td>1983-12-21</td>\n",
       "      <td>Black</td>\n",
       "      <td>Memphis TN 38114</td>\n",
       "      <td>CLIFF, JOHN F</td>\n",
       "      <td>Retained</td>\n",
       "      <td>23005400</td>\n",
       "      <td>Johnson, Christian R.</td>\n",
       "      <td>04/08/2023</td>\n",
       "      <td>Misdemeanor Arrest</td>\n",
       "      <td>Active or Open</td>\n",
       "      <td>1000.0</td>\n",
       "      <td>Posted</td>\n",
       "      <td>0.0</td>\n",
       "      <td>6.908755</td>\n",
       "    </tr>\n",
       "  </tbody>\n",
       "</table>\n",
       "<p>3597 rows × 17 columns</p>\n",
       "</div>"
      ],
      "text/plain": [
       "                                      cl                          ch  \\\n",
       "0                      {'Misdemeanor A'}               {'39-17-418'}   \n",
       "1                           {'Felony A'}               {'39-17-434'}   \n",
       "2                      {'Misdemeanor A'}               {'39-13-111'}   \n",
       "3                      {'Misdemeanor A'}               {'55-10-401'}   \n",
       "4                      {'Misdemeanor A'}               {'39-13-111'}   \n",
       "...                                  ...                         ...   \n",
       "3592                   {'Misdemeanor A'}               {'39-13-111'}   \n",
       "3593                   {'Misdemeanor A'}               {'39-16-603'}   \n",
       "3594                   {'Misdemeanor A'}               {'39-14-408'}   \n",
       "3595                        {'Felony E'}               {'40-39-208'}   \n",
       "3596  {'Misdemeanor B', 'Misdemeanor A'}  {'39-14-146', '39-16-602'}   \n",
       "\n",
       "                       name         dob   race               zip  \\\n",
       "0       BLACK, DAJAVANTAY J  2001-01-17  Black               NaN   \n",
       "1            BASS, GARRISON  1987-10-01  White               NaN   \n",
       "2             CROCKER, CHAD  1968-12-19  White               NaN   \n",
       "3           DAVIS, LAQUINCY  1984-04-01  Black               NaN   \n",
       "4     CALVIN, DARRIUS JAVON  1998-09-25  Black               NaN   \n",
       "...                     ...         ...    ...               ...   \n",
       "3592          SELDON, JAMES  1980-10-31  Black               NaN   \n",
       "3593        WELLS, MONTRELL  1986-04-11  Black               NaN   \n",
       "3594           BRITT, DAVIA  1995-11-17  Black               NaN   \n",
       "3595       MCKINNEY, RICKEY  1968-02-19  Black  MEMPHIS TN 38127   \n",
       "3596        MATTHEWS, LEVON  1983-12-21  Black  Memphis TN 38114   \n",
       "\n",
       "                       atty             retained   case_no  \\\n",
       "0          Harris, Jayniece     Harris, Jayniece  21000003   \n",
       "1           MATTHEWS, JASON             Retained  21000004   \n",
       "2       BRASHIER, KENNETH W  BRASHIER, KENNETH W  21000008   \n",
       "3     JONES, JEFFREY HUDSON             Retained  21000011   \n",
       "4                       NaN                  NaN  21000015   \n",
       "...                     ...                  ...       ...   \n",
       "3592                    NaN                  NaN  23005324   \n",
       "3593                    NaN                  NaN  23005328   \n",
       "3594                    NaN                  NaN  23005331   \n",
       "3595                    NaN                  NaN  23005335   \n",
       "3596          CLIFF, JOHN F             Retained  23005400   \n",
       "\n",
       "                       judge        date  \\\n",
       "0     Anderson, William Bill  01/01/2021   \n",
       "1                 Dwyer, Tim  01/01/2021   \n",
       "2         Turner, William C.  01/01/2021   \n",
       "3           Lucchesi, Ronald  01/01/2021   \n",
       "4         Turner, William C.  01/01/2021   \n",
       "...                      ...         ...   \n",
       "3592           Gilbert, Greg  04/07/2023   \n",
       "3593      Renfroe, Sheila B.  04/07/2023   \n",
       "3594                   Other  04/07/2023   \n",
       "3595                   Other  04/07/2023   \n",
       "3596   Johnson, Christian R.  04/08/2023   \n",
       "\n",
       "                                      type          status  bond_amt  \\\n",
       "0                       Misdemeanor Arrest        Disposed     250.0   \n",
       "1                       Felony Arrest Drug   Held to State    3500.0   \n",
       "2     Misdemeanor Arrest Domestic Violence        Disposed    1500.0   \n",
       "3                       Misdemeanor Arrest        Disposed     500.0   \n",
       "4     Misdemeanor Arrest Domestic Violence        Disposed    2500.0   \n",
       "...                                    ...             ...       ...   \n",
       "3592  Misdemeanor Arrest Domestic Violence  Active or Open   10000.0   \n",
       "3593                    Misdemeanor Arrest        Disposed    2500.0   \n",
       "3594                         State Warrant  Active or Open     750.0   \n",
       "3595                         State Warrant  Active or Open    2000.0   \n",
       "3596                    Misdemeanor Arrest  Active or Open    1000.0   \n",
       "\n",
       "        bond_status  era  log_bond  \n",
       "0     Case Disposed  0.0  5.525453  \n",
       "1     Held To State  0.0  8.160804  \n",
       "2     Case Disposed  0.0  7.313887  \n",
       "3     Case Disposed  0.0  6.216606  \n",
       "4     Case Disposed  0.0  7.824446  \n",
       "...             ...  ...       ...  \n",
       "3592         Posted  0.0  9.210440  \n",
       "3593         Posted  0.0  7.824446  \n",
       "3594         Posted  0.0  6.621406  \n",
       "3595         Posted  0.0  7.601402  \n",
       "3596         Posted  0.0  6.908755  \n",
       "\n",
       "[3597 rows x 17 columns]"
      ]
     },
     "execution_count": 24,
     "metadata": {},
     "output_type": "execute_result"
    }
   ],
   "source": [
    "cases"
   ]
  },
  {
   "cell_type": "code",
   "execution_count": 77,
   "id": "8f95850a-2e84-438d-aae5-e43f777c7b45",
   "metadata": {},
   "outputs": [],
   "source": [
    "X = cases[['ch','cl','judge','race']]\n",
    "y = cases['log_bond']"
   ]
  },
  {
   "cell_type": "code",
   "execution_count": 78,
   "id": "ddf07aac",
   "metadata": {},
   "outputs": [],
   "source": [
    "ohe = OneHotEncoder()\n",
    "X = ohe.fit_transform(X)"
   ]
  },
  {
   "cell_type": "code",
   "execution_count": 79,
   "id": "3bdaa7c4-2219-4439-9c23-9e39ab5396c4",
   "metadata": {},
   "outputs": [],
   "source": [
    "X_train, X_test, y_train, y_test = train_test_split(X, y, random_state=42)"
   ]
  },
  {
   "cell_type": "code",
   "execution_count": 80,
   "id": "0c26b7b2",
   "metadata": {},
   "outputs": [],
   "source": [
    "base = [np.mean(y_train)]*len(y_test)"
   ]
  },
  {
   "cell_type": "code",
   "execution_count": 81,
   "id": "ebca320a",
   "metadata": {},
   "outputs": [
    {
     "data": {
      "text/plain": [
       "1.4337997279760442"
      ]
     },
     "execution_count": 81,
     "metadata": {},
     "output_type": "execute_result"
    }
   ],
   "source": [
    "mean_squared_error(y_test,base,squared=False)"
   ]
  },
  {
   "cell_type": "code",
   "execution_count": 82,
   "id": "2a7415c1",
   "metadata": {},
   "outputs": [
    {
     "data": {
      "text/plain": [
       "(1.4751682422866976, 1.4327861994121809)"
      ]
     },
     "execution_count": 82,
     "metadata": {},
     "output_type": "execute_result"
    }
   ],
   "source": [
    "knn = KNeighborsRegressor(n_neighbors=200)\n",
    "knn.fit(X_train,y_train)\n",
    "mean_squared_error(y_train,knn.predict(X_train),squared = False),mean_squared_error(y_test,knn.predict(X_test),squared = False)"
   ]
  },
  {
   "cell_type": "code",
   "execution_count": 83,
   "id": "6b7172e0",
   "metadata": {},
   "outputs": [
    {
     "data": {
      "text/plain": [
       "1.7399585281522316"
      ]
     },
     "execution_count": 83,
     "metadata": {},
     "output_type": "execute_result"
    }
   ],
   "source": [
    "dt = DecisionTreeRegressor()\n",
    "dt.fit(X_train,y_train)\n",
    "mean_squared_error(y_test,dt.predict(X_test),squared=False)"
   ]
  },
  {
   "cell_type": "code",
   "execution_count": 84,
   "id": "3057e541",
   "metadata": {},
   "outputs": [],
   "source": [
    "gs = GridSearchCV(knn,\n",
    "                  param_grid = {'n_neighbors':[3,5,7,10]},\n",
    "                  cv=5)"
   ]
  },
  {
   "cell_type": "code",
   "execution_count": 85,
   "id": "0f20363a",
   "metadata": {},
   "outputs": [
    {
     "data": {
      "text/html": [
       "<style>#sk-container-id-5 {color: black;background-color: white;}#sk-container-id-5 pre{padding: 0;}#sk-container-id-5 div.sk-toggleable {background-color: white;}#sk-container-id-5 label.sk-toggleable__label {cursor: pointer;display: block;width: 100%;margin-bottom: 0;padding: 0.3em;box-sizing: border-box;text-align: center;}#sk-container-id-5 label.sk-toggleable__label-arrow:before {content: \"▸\";float: left;margin-right: 0.25em;color: #696969;}#sk-container-id-5 label.sk-toggleable__label-arrow:hover:before {color: black;}#sk-container-id-5 div.sk-estimator:hover label.sk-toggleable__label-arrow:before {color: black;}#sk-container-id-5 div.sk-toggleable__content {max-height: 0;max-width: 0;overflow: hidden;text-align: left;background-color: #f0f8ff;}#sk-container-id-5 div.sk-toggleable__content pre {margin: 0.2em;color: black;border-radius: 0.25em;background-color: #f0f8ff;}#sk-container-id-5 input.sk-toggleable__control:checked~div.sk-toggleable__content {max-height: 200px;max-width: 100%;overflow: auto;}#sk-container-id-5 input.sk-toggleable__control:checked~label.sk-toggleable__label-arrow:before {content: \"▾\";}#sk-container-id-5 div.sk-estimator input.sk-toggleable__control:checked~label.sk-toggleable__label {background-color: #d4ebff;}#sk-container-id-5 div.sk-label input.sk-toggleable__control:checked~label.sk-toggleable__label {background-color: #d4ebff;}#sk-container-id-5 input.sk-hidden--visually {border: 0;clip: rect(1px 1px 1px 1px);clip: rect(1px, 1px, 1px, 1px);height: 1px;margin: -1px;overflow: hidden;padding: 0;position: absolute;width: 1px;}#sk-container-id-5 div.sk-estimator {font-family: monospace;background-color: #f0f8ff;border: 1px dotted black;border-radius: 0.25em;box-sizing: border-box;margin-bottom: 0.5em;}#sk-container-id-5 div.sk-estimator:hover {background-color: #d4ebff;}#sk-container-id-5 div.sk-parallel-item::after {content: \"\";width: 100%;border-bottom: 1px solid gray;flex-grow: 1;}#sk-container-id-5 div.sk-label:hover label.sk-toggleable__label {background-color: #d4ebff;}#sk-container-id-5 div.sk-serial::before {content: \"\";position: absolute;border-left: 1px solid gray;box-sizing: border-box;top: 0;bottom: 0;left: 50%;z-index: 0;}#sk-container-id-5 div.sk-serial {display: flex;flex-direction: column;align-items: center;background-color: white;padding-right: 0.2em;padding-left: 0.2em;position: relative;}#sk-container-id-5 div.sk-item {position: relative;z-index: 1;}#sk-container-id-5 div.sk-parallel {display: flex;align-items: stretch;justify-content: center;background-color: white;position: relative;}#sk-container-id-5 div.sk-item::before, #sk-container-id-5 div.sk-parallel-item::before {content: \"\";position: absolute;border-left: 1px solid gray;box-sizing: border-box;top: 0;bottom: 0;left: 50%;z-index: -1;}#sk-container-id-5 div.sk-parallel-item {display: flex;flex-direction: column;z-index: 1;position: relative;background-color: white;}#sk-container-id-5 div.sk-parallel-item:first-child::after {align-self: flex-end;width: 50%;}#sk-container-id-5 div.sk-parallel-item:last-child::after {align-self: flex-start;width: 50%;}#sk-container-id-5 div.sk-parallel-item:only-child::after {width: 0;}#sk-container-id-5 div.sk-dashed-wrapped {border: 1px dashed gray;margin: 0 0.4em 0.5em 0.4em;box-sizing: border-box;padding-bottom: 0.4em;background-color: white;}#sk-container-id-5 div.sk-label label {font-family: monospace;font-weight: bold;display: inline-block;line-height: 1.2em;}#sk-container-id-5 div.sk-label-container {text-align: center;}#sk-container-id-5 div.sk-container {/* jupyter's `normalize.less` sets `[hidden] { display: none; }` but bootstrap.min.css set `[hidden] { display: none !important; }` so we also need the `!important` here to be able to override the default hidden behavior on the sphinx rendered scikit-learn.org. See: https://github.com/scikit-learn/scikit-learn/issues/21755 */display: inline-block !important;position: relative;}#sk-container-id-5 div.sk-text-repr-fallback {display: none;}</style><div id=\"sk-container-id-5\" class=\"sk-top-container\"><div class=\"sk-text-repr-fallback\"><pre>KNeighborsRegressor(n_neighbors=10)</pre><b>In a Jupyter environment, please rerun this cell to show the HTML representation or trust the notebook. <br />On GitHub, the HTML representation is unable to render, please try loading this page with nbviewer.org.</b></div><div class=\"sk-container\" hidden><div class=\"sk-item\"><div class=\"sk-estimator sk-toggleable\"><input class=\"sk-toggleable__control sk-hidden--visually\" id=\"sk-estimator-id-5\" type=\"checkbox\" checked><label for=\"sk-estimator-id-5\" class=\"sk-toggleable__label sk-toggleable__label-arrow\">KNeighborsRegressor</label><div class=\"sk-toggleable__content\"><pre>KNeighborsRegressor(n_neighbors=10)</pre></div></div></div></div></div>"
      ],
      "text/plain": [
       "KNeighborsRegressor(n_neighbors=10)"
      ]
     },
     "execution_count": 85,
     "metadata": {},
     "output_type": "execute_result"
    }
   ],
   "source": [
    "gs.fit(X_train,y_train)\n",
    "gs.best_estimator_"
   ]
  },
  {
   "cell_type": "code",
   "execution_count": 86,
   "id": "56db360d",
   "metadata": {},
   "outputs": [
    {
     "data": {
      "text/plain": [
       "(1.420249937934048, 1.52102529764151)"
      ]
     },
     "execution_count": 86,
     "metadata": {},
     "output_type": "execute_result"
    }
   ],
   "source": [
    "knn = KNeighborsRegressor(n_neighbors = 10)\n",
    "knn.fit(X_train,y_train)\n",
    "mean_squared_error(y_train,knn.predict(X_train),squared = False),mean_squared_error(y_test,knn.predict(X_test),squared = False)"
   ]
  },
  {
   "cell_type": "code",
   "execution_count": 41,
   "id": "9dc50658",
   "metadata": {},
   "outputs": [],
   "source": [
    "model_dict = {'knn': \n",
    "              {'model': \n",
    "               ('knn', KNeighborsRegressor()),\n",
    "               'params':\n",
    "               {\"knn__n_neighbors\": [3,5,7,10],\n",
    "                \"knn__p\":[1,2]}},\n",
    "             'lr': \n",
    "              {'model': \n",
    "               ('lr', LinearRegression()),\n",
    "               'params':\n",
    "               {\"lr__fit_intercept\": [True,False]}},\n",
    "             'abc': \n",
    "              {'model': \n",
    "               ('abc', AdaBoostRegressor()),\n",
    "               'params':\n",
    "               {\"abc__n_estimators\": [30,50,100],\n",
    "                \"abc__learning_rate\": [0.2,0.4,0.6]}}\n",
    "              }"
   ]
  },
  {
   "cell_type": "code",
   "execution_count": 42,
   "id": "8d089a65",
   "metadata": {},
   "outputs": [
    {
     "name": "stdout",
     "output_type": "stream",
     "text": [
      "KNeighborsRegressor() {'knn__n_neighbors': [3, 5, 7, 10], 'knn__p': [1, 2]}\n",
      "LinearRegression() {'lr__fit_intercept': [True, False]}\n",
      "AdaBoostRegressor() {'abc__n_estimators': [30, 50, 100], 'abc__learning_rate': [0.2, 0.4, 0.6]}\n"
     ]
    }
   ],
   "source": [
    "for key, value in model_dict.items():\n",
    "    print(value['model'][1],value['params'])"
   ]
  },
  {
   "cell_type": "code",
   "execution_count": 43,
   "id": "9e564cda",
   "metadata": {},
   "outputs": [
    {
     "ename": "TypeError",
     "evalue": "estimator should be an estimator implementing 'fit' method, 'knn' was passed",
     "output_type": "error",
     "traceback": [
      "\u001b[1;31m---------------------------------------------------------------------------\u001b[0m",
      "\u001b[1;31mTypeError\u001b[0m                                 Traceback (most recent call last)",
      "Cell \u001b[1;32mIn[43], line 9\u001b[0m\n\u001b[0;32m      3\u001b[0m \u001b[38;5;28;01mfor\u001b[39;00m key, value \u001b[38;5;129;01min\u001b[39;00m model_dict\u001b[38;5;241m.\u001b[39mitems():\n\u001b[0;32m      4\u001b[0m     gs \u001b[38;5;241m=\u001b[39m GridSearchCV(value[\u001b[38;5;124m'\u001b[39m\u001b[38;5;124mmodel\u001b[39m\u001b[38;5;124m'\u001b[39m][\u001b[38;5;241m0\u001b[39m], \u001b[38;5;66;03m# set as iteration of pipe\u001b[39;00m\n\u001b[0;32m      5\u001b[0m                   param_grid \u001b[38;5;241m=\u001b[39m value[\u001b[38;5;124m'\u001b[39m\u001b[38;5;124mparams\u001b[39m\u001b[38;5;124m'\u001b[39m], \u001b[38;5;66;03m# set as iteration of pipe_params\u001b[39;00m\n\u001b[0;32m      6\u001b[0m                       cv\u001b[38;5;241m=\u001b[39m\u001b[38;5;241m5\u001b[39m, \u001b[38;5;66;03m# Cross Validation of 5\u001b[39;00m\n\u001b[0;32m      7\u001b[0m                       n_jobs\u001b[38;5;241m=\u001b[39m\u001b[38;5;241m-\u001b[39m\u001b[38;5;241m1\u001b[39m) \u001b[38;5;66;03m# Unlock CPU to help process\u001b[39;00m\n\u001b[1;32m----> 9\u001b[0m     \u001b[43mgs\u001b[49m\u001b[38;5;241;43m.\u001b[39;49m\u001b[43mfit\u001b[49m\u001b[43m(\u001b[49m\u001b[43mX_train\u001b[49m\u001b[43m,\u001b[49m\u001b[43m \u001b[49m\u001b[43my_train\u001b[49m\u001b[43m)\u001b[49m\n\u001b[0;32m     11\u001b[0m     best_models[key] \u001b[38;5;241m=\u001b[39m {\u001b[38;5;124m'\u001b[39m\u001b[38;5;124mmodel\u001b[39m\u001b[38;5;124m'\u001b[39m: gs\u001b[38;5;241m.\u001b[39mbest_estimator_,\n\u001b[0;32m     12\u001b[0m                         \u001b[38;5;124m'\u001b[39m\u001b[38;5;124mparams\u001b[39m\u001b[38;5;124m'\u001b[39m: gs\u001b[38;5;241m.\u001b[39mbest_params_}\n\u001b[0;32m     13\u001b[0m     \u001b[38;5;28mprint\u001b[39m(best_models)\n",
      "File \u001b[1;32mC:\\Anaconda\\envs\\tfm1\\lib\\site-packages\\sklearn\\model_selection\\_search.py:776\u001b[0m, in \u001b[0;36mBaseSearchCV.fit\u001b[1;34m(self, X, y, groups, **fit_params)\u001b[0m\n\u001b[0;32m    774\u001b[0m     scorers \u001b[38;5;241m=\u001b[39m \u001b[38;5;28mself\u001b[39m\u001b[38;5;241m.\u001b[39mscoring\n\u001b[0;32m    775\u001b[0m \u001b[38;5;28;01melif\u001b[39;00m \u001b[38;5;28mself\u001b[39m\u001b[38;5;241m.\u001b[39mscoring \u001b[38;5;129;01mis\u001b[39;00m \u001b[38;5;28;01mNone\u001b[39;00m \u001b[38;5;129;01mor\u001b[39;00m \u001b[38;5;28misinstance\u001b[39m(\u001b[38;5;28mself\u001b[39m\u001b[38;5;241m.\u001b[39mscoring, \u001b[38;5;28mstr\u001b[39m):\n\u001b[1;32m--> 776\u001b[0m     scorers \u001b[38;5;241m=\u001b[39m \u001b[43mcheck_scoring\u001b[49m\u001b[43m(\u001b[49m\u001b[38;5;28;43mself\u001b[39;49m\u001b[38;5;241;43m.\u001b[39;49m\u001b[43mestimator\u001b[49m\u001b[43m,\u001b[49m\u001b[43m \u001b[49m\u001b[38;5;28;43mself\u001b[39;49m\u001b[38;5;241;43m.\u001b[39;49m\u001b[43mscoring\u001b[49m\u001b[43m)\u001b[49m\n\u001b[0;32m    777\u001b[0m \u001b[38;5;28;01melse\u001b[39;00m:\n\u001b[0;32m    778\u001b[0m     scorers \u001b[38;5;241m=\u001b[39m _check_multimetric_scoring(\u001b[38;5;28mself\u001b[39m\u001b[38;5;241m.\u001b[39mestimator, \u001b[38;5;28mself\u001b[39m\u001b[38;5;241m.\u001b[39mscoring)\n",
      "File \u001b[1;32mC:\\Anaconda\\envs\\tfm1\\lib\\site-packages\\sklearn\\metrics\\_scorer.py:474\u001b[0m, in \u001b[0;36mcheck_scoring\u001b[1;34m(estimator, scoring, allow_none)\u001b[0m\n\u001b[0;32m    448\u001b[0m \u001b[38;5;124;03m\"\"\"Determine scorer from user options.\u001b[39;00m\n\u001b[0;32m    449\u001b[0m \n\u001b[0;32m    450\u001b[0m \u001b[38;5;124;03mA TypeError will be thrown if the estimator cannot be scored.\u001b[39;00m\n\u001b[1;32m   (...)\u001b[0m\n\u001b[0;32m    471\u001b[0m \u001b[38;5;124;03m    ``scorer(estimator, X, y)``.\u001b[39;00m\n\u001b[0;32m    472\u001b[0m \u001b[38;5;124;03m\"\"\"\u001b[39;00m\n\u001b[0;32m    473\u001b[0m \u001b[38;5;28;01mif\u001b[39;00m \u001b[38;5;129;01mnot\u001b[39;00m \u001b[38;5;28mhasattr\u001b[39m(estimator, \u001b[38;5;124m\"\u001b[39m\u001b[38;5;124mfit\u001b[39m\u001b[38;5;124m\"\u001b[39m):\n\u001b[1;32m--> 474\u001b[0m     \u001b[38;5;28;01mraise\u001b[39;00m \u001b[38;5;167;01mTypeError\u001b[39;00m(\n\u001b[0;32m    475\u001b[0m         \u001b[38;5;124m\"\u001b[39m\u001b[38;5;124mestimator should be an estimator implementing \u001b[39m\u001b[38;5;124m'\u001b[39m\u001b[38;5;124mfit\u001b[39m\u001b[38;5;124m'\u001b[39m\u001b[38;5;124m method, \u001b[39m\u001b[38;5;132;01m%r\u001b[39;00m\u001b[38;5;124m was passed\u001b[39m\u001b[38;5;124m\"\u001b[39m\n\u001b[0;32m    476\u001b[0m         \u001b[38;5;241m%\u001b[39m estimator\n\u001b[0;32m    477\u001b[0m     )\n\u001b[0;32m    478\u001b[0m \u001b[38;5;28;01mif\u001b[39;00m \u001b[38;5;28misinstance\u001b[39m(scoring, \u001b[38;5;28mstr\u001b[39m):\n\u001b[0;32m    479\u001b[0m     \u001b[38;5;28;01mreturn\u001b[39;00m get_scorer(scoring)\n",
      "\u001b[1;31mTypeError\u001b[0m: estimator should be an estimator implementing 'fit' method, 'knn' was passed"
     ]
    }
   ],
   "source": [
    "\n",
    "best_models = {}\n",
    "\n",
    "for key, value in model_dict.items():\n",
    "    gs = GridSearchCV(value['model'][0], # set as iteration of pipe\n",
    "                  param_grid = value['params'], # set as iteration of pipe_params\n",
    "                      cv=5, # Cross Validation of 5\n",
    "                      n_jobs=-1) # Unlock CPU to help process\n",
    "\n",
    "    gs.fit(X_train, y_train)\n",
    "\n",
    "    best_models[key] = {'model': gs.best_estimator_,\n",
    "                        'params': gs.best_params_}\n",
    "    print(best_models)"
   ]
  },
  {
   "cell_type": "code",
   "execution_count": null,
   "id": "85e87134-58e4-4f27-86a8-ef3401cdede7",
   "metadata": {},
   "outputs": [],
   "source": [
    "for key, value in best_models.items():\n",
    "    value['model'].fit(X_train,y_train)\n",
    "    print(value['model'].score(X_train, y_train), value['model'].score(X_test, y_test))"
   ]
  },
  {
   "cell_type": "code",
   "execution_count": null,
   "id": "6227cade-49de-46d8-a081-64b211f11f4b",
   "metadata": {},
   "outputs": [],
   "source": []
  },
  {
   "cell_type": "code",
   "execution_count": 70,
   "id": "6f8f24ab-2f32-41e6-9988-c23821605013",
   "metadata": {},
   "outputs": [
    {
     "data": {
      "text/plain": [
       "1.4765617513847713"
      ]
     },
     "execution_count": 70,
     "metadata": {},
     "output_type": "execute_result"
    }
   ],
   "source": [
    "base = [np.mean(y_train)] * len(y_test)\n",
    "mean_squared_error(y_test,base, squared = False)"
   ]
  },
  {
   "cell_type": "code",
   "execution_count": 71,
   "id": "439c3c7f-4317-4c06-af38-71be847afe3c",
   "metadata": {},
   "outputs": [
    {
     "ename": "ValueError",
     "evalue": "X has 188 features, but LinearRegression is expecting 9 features as input.",
     "output_type": "error",
     "traceback": [
      "\u001b[1;31m---------------------------------------------------------------------------\u001b[0m",
      "\u001b[1;31mValueError\u001b[0m                                Traceback (most recent call last)",
      "\u001b[1;32m~\\AppData\\Local\\Temp\\ipykernel_16488\\2995291440.py\u001b[0m in \u001b[0;36m<module>\u001b[1;34m\u001b[0m\n\u001b[1;32m----> 1\u001b[1;33m \u001b[0mresids\u001b[0m \u001b[1;33m=\u001b[0m \u001b[0mlr\u001b[0m\u001b[1;33m.\u001b[0m\u001b[0mpredict\u001b[0m\u001b[1;33m(\u001b[0m\u001b[0mX_test\u001b[0m\u001b[1;33m)\u001b[0m \u001b[1;33m-\u001b[0m \u001b[0my_test\u001b[0m\u001b[1;33m\u001b[0m\u001b[1;33m\u001b[0m\u001b[0m\n\u001b[0m",
      "\u001b[1;32m~\\anaconda3\\lib\\site-packages\\sklearn\\linear_model\\_base.py\u001b[0m in \u001b[0;36mpredict\u001b[1;34m(self, X)\u001b[0m\n\u001b[0;32m    360\u001b[0m             \u001b[0mReturns\u001b[0m \u001b[0mpredicted\u001b[0m \u001b[0mvalues\u001b[0m\u001b[1;33m.\u001b[0m\u001b[1;33m\u001b[0m\u001b[1;33m\u001b[0m\u001b[0m\n\u001b[0;32m    361\u001b[0m         \"\"\"\n\u001b[1;32m--> 362\u001b[1;33m         \u001b[1;32mreturn\u001b[0m \u001b[0mself\u001b[0m\u001b[1;33m.\u001b[0m\u001b[0m_decision_function\u001b[0m\u001b[1;33m(\u001b[0m\u001b[0mX\u001b[0m\u001b[1;33m)\u001b[0m\u001b[1;33m\u001b[0m\u001b[1;33m\u001b[0m\u001b[0m\n\u001b[0m\u001b[0;32m    363\u001b[0m \u001b[1;33m\u001b[0m\u001b[0m\n\u001b[0;32m    364\u001b[0m     \u001b[0m_preprocess_data\u001b[0m \u001b[1;33m=\u001b[0m \u001b[0mstaticmethod\u001b[0m\u001b[1;33m(\u001b[0m\u001b[0m_preprocess_data\u001b[0m\u001b[1;33m)\u001b[0m\u001b[1;33m\u001b[0m\u001b[1;33m\u001b[0m\u001b[0m\n",
      "\u001b[1;32m~\\anaconda3\\lib\\site-packages\\sklearn\\linear_model\\_base.py\u001b[0m in \u001b[0;36m_decision_function\u001b[1;34m(self, X)\u001b[0m\n\u001b[0;32m    343\u001b[0m         \u001b[0mcheck_is_fitted\u001b[0m\u001b[1;33m(\u001b[0m\u001b[0mself\u001b[0m\u001b[1;33m)\u001b[0m\u001b[1;33m\u001b[0m\u001b[1;33m\u001b[0m\u001b[0m\n\u001b[0;32m    344\u001b[0m \u001b[1;33m\u001b[0m\u001b[0m\n\u001b[1;32m--> 345\u001b[1;33m         \u001b[0mX\u001b[0m \u001b[1;33m=\u001b[0m \u001b[0mself\u001b[0m\u001b[1;33m.\u001b[0m\u001b[0m_validate_data\u001b[0m\u001b[1;33m(\u001b[0m\u001b[0mX\u001b[0m\u001b[1;33m,\u001b[0m \u001b[0maccept_sparse\u001b[0m\u001b[1;33m=\u001b[0m\u001b[1;33m[\u001b[0m\u001b[1;34m\"csr\"\u001b[0m\u001b[1;33m,\u001b[0m \u001b[1;34m\"csc\"\u001b[0m\u001b[1;33m,\u001b[0m \u001b[1;34m\"coo\"\u001b[0m\u001b[1;33m]\u001b[0m\u001b[1;33m,\u001b[0m \u001b[0mreset\u001b[0m\u001b[1;33m=\u001b[0m\u001b[1;32mFalse\u001b[0m\u001b[1;33m)\u001b[0m\u001b[1;33m\u001b[0m\u001b[1;33m\u001b[0m\u001b[0m\n\u001b[0m\u001b[0;32m    346\u001b[0m         \u001b[1;32mreturn\u001b[0m \u001b[0msafe_sparse_dot\u001b[0m\u001b[1;33m(\u001b[0m\u001b[0mX\u001b[0m\u001b[1;33m,\u001b[0m \u001b[0mself\u001b[0m\u001b[1;33m.\u001b[0m\u001b[0mcoef_\u001b[0m\u001b[1;33m.\u001b[0m\u001b[0mT\u001b[0m\u001b[1;33m,\u001b[0m \u001b[0mdense_output\u001b[0m\u001b[1;33m=\u001b[0m\u001b[1;32mTrue\u001b[0m\u001b[1;33m)\u001b[0m \u001b[1;33m+\u001b[0m \u001b[0mself\u001b[0m\u001b[1;33m.\u001b[0m\u001b[0mintercept_\u001b[0m\u001b[1;33m\u001b[0m\u001b[1;33m\u001b[0m\u001b[0m\n\u001b[0;32m    347\u001b[0m \u001b[1;33m\u001b[0m\u001b[0m\n",
      "\u001b[1;32m~\\anaconda3\\lib\\site-packages\\sklearn\\base.py\u001b[0m in \u001b[0;36m_validate_data\u001b[1;34m(self, X, y, reset, validate_separately, **check_params)\u001b[0m\n\u001b[0;32m    583\u001b[0m \u001b[1;33m\u001b[0m\u001b[0m\n\u001b[0;32m    584\u001b[0m         \u001b[1;32mif\u001b[0m \u001b[1;32mnot\u001b[0m \u001b[0mno_val_X\u001b[0m \u001b[1;32mand\u001b[0m \u001b[0mcheck_params\u001b[0m\u001b[1;33m.\u001b[0m\u001b[0mget\u001b[0m\u001b[1;33m(\u001b[0m\u001b[1;34m\"ensure_2d\"\u001b[0m\u001b[1;33m,\u001b[0m \u001b[1;32mTrue\u001b[0m\u001b[1;33m)\u001b[0m\u001b[1;33m:\u001b[0m\u001b[1;33m\u001b[0m\u001b[1;33m\u001b[0m\u001b[0m\n\u001b[1;32m--> 585\u001b[1;33m             \u001b[0mself\u001b[0m\u001b[1;33m.\u001b[0m\u001b[0m_check_n_features\u001b[0m\u001b[1;33m(\u001b[0m\u001b[0mX\u001b[0m\u001b[1;33m,\u001b[0m \u001b[0mreset\u001b[0m\u001b[1;33m=\u001b[0m\u001b[0mreset\u001b[0m\u001b[1;33m)\u001b[0m\u001b[1;33m\u001b[0m\u001b[1;33m\u001b[0m\u001b[0m\n\u001b[0m\u001b[0;32m    586\u001b[0m \u001b[1;33m\u001b[0m\u001b[0m\n\u001b[0;32m    587\u001b[0m         \u001b[1;32mreturn\u001b[0m \u001b[0mout\u001b[0m\u001b[1;33m\u001b[0m\u001b[1;33m\u001b[0m\u001b[0m\n",
      "\u001b[1;32m~\\anaconda3\\lib\\site-packages\\sklearn\\base.py\u001b[0m in \u001b[0;36m_check_n_features\u001b[1;34m(self, X, reset)\u001b[0m\n\u001b[0;32m    398\u001b[0m \u001b[1;33m\u001b[0m\u001b[0m\n\u001b[0;32m    399\u001b[0m         \u001b[1;32mif\u001b[0m \u001b[0mn_features\u001b[0m \u001b[1;33m!=\u001b[0m \u001b[0mself\u001b[0m\u001b[1;33m.\u001b[0m\u001b[0mn_features_in_\u001b[0m\u001b[1;33m:\u001b[0m\u001b[1;33m\u001b[0m\u001b[1;33m\u001b[0m\u001b[0m\n\u001b[1;32m--> 400\u001b[1;33m             raise ValueError(\n\u001b[0m\u001b[0;32m    401\u001b[0m                 \u001b[1;34mf\"X has {n_features} features, but {self.__class__.__name__} \"\u001b[0m\u001b[1;33m\u001b[0m\u001b[1;33m\u001b[0m\u001b[0m\n\u001b[0;32m    402\u001b[0m                 \u001b[1;34mf\"is expecting {self.n_features_in_} features as input.\"\u001b[0m\u001b[1;33m\u001b[0m\u001b[1;33m\u001b[0m\u001b[0m\n",
      "\u001b[1;31mValueError\u001b[0m: X has 188 features, but LinearRegression is expecting 9 features as input."
     ]
    }
   ],
   "source": [
    "resids = lr.predict(X_test) - y_test"
   ]
  },
  {
   "cell_type": "code",
   "execution_count": 53,
   "id": "3a6ba5fb-0a0c-4aac-898d-d9c6bf3db910",
   "metadata": {},
   "outputs": [
    {
     "data": {
      "text/plain": [
       "691    -0.793484\n",
       "1672    0.604935\n",
       "721     1.532024\n",
       "3249    3.328135\n",
       "26     -0.120046\n",
       "          ...   \n",
       "2645    0.470694\n",
       "468    -0.236584\n",
       "2835    2.726591\n",
       "1947   -1.776309\n",
       "3563   -0.641982\n",
       "Name: log_bond, Length: 899, dtype: float64"
      ]
     },
     "execution_count": 53,
     "metadata": {},
     "output_type": "execute_result"
    }
   ],
   "source": [
    "resids"
   ]
  },
  {
   "cell_type": "code",
   "execution_count": null,
   "id": "33e2a5d8-61dc-4688-9364-d0c9dd24fd0e",
   "metadata": {},
   "outputs": [],
   "source": []
  },
  {
   "cell_type": "code",
   "execution_count": null,
   "id": "869ac9b9-49f7-4548-bd12-736e51706848",
   "metadata": {},
   "outputs": [],
   "source": []
  },
  {
   "cell_type": "code",
   "execution_count": 72,
   "id": "45ab9a56-d021-4c5b-9dba-ea9f6794f529",
   "metadata": {},
   "outputs": [
    {
     "data": {
      "text/plain": [
       "1.5308947010642906"
      ]
     },
     "execution_count": 72,
     "metadata": {},
     "output_type": "execute_result"
    }
   ],
   "source": [
    "lr = LinearRegression()\n",
    "lr.fit(X_train,y_train)\n",
    "mean_squared_error(y_test,lr.predict(X_test),squared = False)"
   ]
  },
  {
   "cell_type": "code",
   "execution_count": null,
   "id": "42d06c41-ad47-4482-8b79-aa917f0410b7",
   "metadata": {},
   "outputs": [],
   "source": []
  },
  {
   "cell_type": "code",
   "execution_count": null,
   "id": "baa63b3e-7fd1-4fc8-a18a-b4eaef1e8e45",
   "metadata": {},
   "outputs": [],
   "source": []
  },
  {
   "cell_type": "code",
   "execution_count": 73,
   "id": "95acf7a6-dcf2-454b-baca-f8ffc037f426",
   "metadata": {},
   "outputs": [
    {
     "data": {
      "text/plain": [
       "1.4822688031232722"
      ]
     },
     "execution_count": 73,
     "metadata": {},
     "output_type": "execute_result"
    }
   ],
   "source": [
    "knn = KNeighborsRegressor(n_neighbors = 50)\n",
    "knn.fit(X_train,y_train)\n",
    "mean_squared_error(y_test, knn.predict(X_test), squared = False)"
   ]
  },
  {
   "cell_type": "code",
   "execution_count": 74,
   "id": "51e764a1-2294-41b1-8cbe-8b3a161a5563",
   "metadata": {},
   "outputs": [
    {
     "data": {
      "text/plain": [
       "1.524921125657818"
      ]
     },
     "execution_count": 74,
     "metadata": {},
     "output_type": "execute_result"
    }
   ],
   "source": [
    "dt = DecisionTreeRegressor()\n",
    "dt.fit(X_train,y_train)\n",
    "mean_squared_error(y_test, dt.predict(X_test), squared = False)"
   ]
  },
  {
   "cell_type": "code",
   "execution_count": 48,
   "id": "065f3a80-7fe0-4fdd-8cf3-8ca42a594818",
   "metadata": {},
   "outputs": [
    {
     "ename": "ValueError",
     "evalue": "Shape of passed values is (899, 1), indices imply (899, 2)",
     "output_type": "error",
     "traceback": [
      "\u001b[1;31m---------------------------------------------------------------------------\u001b[0m",
      "\u001b[1;31mValueError\u001b[0m                                Traceback (most recent call last)",
      "\u001b[1;32m~\\AppData\\Local\\Temp\\ipykernel_16488\\2154623960.py\u001b[0m in \u001b[0;36m<module>\u001b[1;34m\u001b[0m\n\u001b[1;32m----> 1\u001b[1;33m \u001b[0mpd\u001b[0m\u001b[1;33m.\u001b[0m\u001b[0mDataFrame\u001b[0m\u001b[1;33m(\u001b[0m\u001b[0mlr\u001b[0m\u001b[1;33m.\u001b[0m\u001b[0mpredict\u001b[0m\u001b[1;33m(\u001b[0m\u001b[0mX_test\u001b[0m\u001b[1;33m)\u001b[0m\u001b[1;33m,\u001b[0m\u001b[0my_test\u001b[0m\u001b[1;33m,\u001b[0m\u001b[0mcolumns\u001b[0m \u001b[1;33m=\u001b[0m \u001b[1;33m[\u001b[0m\u001b[1;34m'pred'\u001b[0m\u001b[1;33m,\u001b[0m\u001b[1;34m'true'\u001b[0m\u001b[1;33m]\u001b[0m\u001b[1;33m)\u001b[0m\u001b[1;33m\u001b[0m\u001b[1;33m\u001b[0m\u001b[0m\n\u001b[0m",
      "\u001b[1;32m~\\anaconda3\\lib\\site-packages\\pandas\\core\\frame.py\u001b[0m in \u001b[0;36m__init__\u001b[1;34m(self, data, index, columns, dtype, copy)\u001b[0m\n\u001b[0;32m    692\u001b[0m                 )\n\u001b[0;32m    693\u001b[0m             \u001b[1;32melse\u001b[0m\u001b[1;33m:\u001b[0m\u001b[1;33m\u001b[0m\u001b[1;33m\u001b[0m\u001b[0m\n\u001b[1;32m--> 694\u001b[1;33m                 mgr = ndarray_to_mgr(\n\u001b[0m\u001b[0;32m    695\u001b[0m                     \u001b[0mdata\u001b[0m\u001b[1;33m,\u001b[0m\u001b[1;33m\u001b[0m\u001b[1;33m\u001b[0m\u001b[0m\n\u001b[0;32m    696\u001b[0m                     \u001b[0mindex\u001b[0m\u001b[1;33m,\u001b[0m\u001b[1;33m\u001b[0m\u001b[1;33m\u001b[0m\u001b[0m\n",
      "\u001b[1;32m~\\anaconda3\\lib\\site-packages\\pandas\\core\\internals\\construction.py\u001b[0m in \u001b[0;36mndarray_to_mgr\u001b[1;34m(values, index, columns, dtype, copy, typ)\u001b[0m\n\u001b[0;32m    349\u001b[0m     )\n\u001b[0;32m    350\u001b[0m \u001b[1;33m\u001b[0m\u001b[0m\n\u001b[1;32m--> 351\u001b[1;33m     \u001b[0m_check_values_indices_shape_match\u001b[0m\u001b[1;33m(\u001b[0m\u001b[0mvalues\u001b[0m\u001b[1;33m,\u001b[0m \u001b[0mindex\u001b[0m\u001b[1;33m,\u001b[0m \u001b[0mcolumns\u001b[0m\u001b[1;33m)\u001b[0m\u001b[1;33m\u001b[0m\u001b[1;33m\u001b[0m\u001b[0m\n\u001b[0m\u001b[0;32m    352\u001b[0m \u001b[1;33m\u001b[0m\u001b[0m\n\u001b[0;32m    353\u001b[0m     \u001b[1;32mif\u001b[0m \u001b[0mtyp\u001b[0m \u001b[1;33m==\u001b[0m \u001b[1;34m\"array\"\u001b[0m\u001b[1;33m:\u001b[0m\u001b[1;33m\u001b[0m\u001b[1;33m\u001b[0m\u001b[0m\n",
      "\u001b[1;32m~\\anaconda3\\lib\\site-packages\\pandas\\core\\internals\\construction.py\u001b[0m in \u001b[0;36m_check_values_indices_shape_match\u001b[1;34m(values, index, columns)\u001b[0m\n\u001b[0;32m    420\u001b[0m         \u001b[0mpassed\u001b[0m \u001b[1;33m=\u001b[0m \u001b[0mvalues\u001b[0m\u001b[1;33m.\u001b[0m\u001b[0mshape\u001b[0m\u001b[1;33m\u001b[0m\u001b[1;33m\u001b[0m\u001b[0m\n\u001b[0;32m    421\u001b[0m         \u001b[0mimplied\u001b[0m \u001b[1;33m=\u001b[0m \u001b[1;33m(\u001b[0m\u001b[0mlen\u001b[0m\u001b[1;33m(\u001b[0m\u001b[0mindex\u001b[0m\u001b[1;33m)\u001b[0m\u001b[1;33m,\u001b[0m \u001b[0mlen\u001b[0m\u001b[1;33m(\u001b[0m\u001b[0mcolumns\u001b[0m\u001b[1;33m)\u001b[0m\u001b[1;33m)\u001b[0m\u001b[1;33m\u001b[0m\u001b[1;33m\u001b[0m\u001b[0m\n\u001b[1;32m--> 422\u001b[1;33m         \u001b[1;32mraise\u001b[0m \u001b[0mValueError\u001b[0m\u001b[1;33m(\u001b[0m\u001b[1;34mf\"Shape of passed values is {passed}, indices imply {implied}\"\u001b[0m\u001b[1;33m)\u001b[0m\u001b[1;33m\u001b[0m\u001b[1;33m\u001b[0m\u001b[0m\n\u001b[0m\u001b[0;32m    423\u001b[0m \u001b[1;33m\u001b[0m\u001b[0m\n\u001b[0;32m    424\u001b[0m \u001b[1;33m\u001b[0m\u001b[0m\n",
      "\u001b[1;31mValueError\u001b[0m: Shape of passed values is (899, 1), indices imply (899, 2)"
     ]
    }
   ],
   "source": [
    "pd.DataFrame(lr.predict(X_test),y_test,columns = ['pred','true'])"
   ]
  },
  {
   "cell_type": "code",
   "execution_count": null,
   "id": "cace0223-a973-4fc7-ad46-c94ec62ce963",
   "metadata": {},
   "outputs": [],
   "source": []
  }
 ],
 "metadata": {
  "kernelspec": {
   "display_name": "Python 3 (ipykernel)",
   "language": "python",
   "name": "python3"
  },
  "language_info": {
   "codemirror_mode": {
    "name": "ipython",
    "version": 3
   },
   "file_extension": ".py",
   "mimetype": "text/x-python",
   "name": "python",
   "nbconvert_exporter": "python",
   "pygments_lexer": "ipython3",
   "version": "3.9.16"
  }
 },
 "nbformat": 4,
 "nbformat_minor": 5
}
