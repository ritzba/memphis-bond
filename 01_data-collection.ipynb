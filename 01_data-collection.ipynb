{
 "cells": [
  {
   "cell_type": "code",
   "execution_count": 2,
   "id": "6eecad5c",
   "metadata": {},
   "outputs": [],
   "source": [
    "import pandas as pd\n",
    "import numpy as np\n",
    "import matplotlib.pyplot as plt\n",
    "import seaborn as sns\n",
    "import time"
   ]
  },
  {
   "cell_type": "code",
   "execution_count": 3,
   "id": "a1ff8d5c",
   "metadata": {},
   "outputs": [],
   "source": [
    "from selenium import webdriver\n",
    "from selenium.webdriver.common.by import By\n",
    "from selenium.webdriver.support.ui import WebDriverWait\n",
    "from selenium.webdriver.support import expected_conditions as EC\n",
    "from selenium.webdriver.remote.webelement import WebElement\n",
    "from bs4 import BeautifulSoup\n",
    "from selenium.webdriver.common.keys import Keys"
   ]
  },
  {
   "cell_type": "code",
   "execution_count": 4,
   "id": "84fc6ce1",
   "metadata": {},
   "outputs": [],
   "source": [
    "driver = webdriver.Chrome()\n",
    "driver.get('https://cjs.shelbycountytn.gov/CJS')\n",
    "driver.find_element(By.ID, \"dropdownMenu1\").click()"
   ]
  },
  {
   "cell_type": "code",
   "execution_count": 5,
   "id": "6601cc5a",
   "metadata": {},
   "outputs": [],
   "source": [
    "WebDriverWait(driver, 10).until(EC.element_to_be_clickable((By.XPATH, \"//a[@href = '/CJS/Account/Login']\"))).click()"
   ]
  },
  {
   "cell_type": "code",
   "execution_count": 6,
   "id": "e8678a8d",
   "metadata": {},
   "outputs": [],
   "source": [
    "driver.find_element(By.ID,\"UserName\").send_keys('golderlawfirm@gmail.com')\n",
    "driver.find_element(By.ID,\"Password\").send_keys('5Ram0n9!')"
   ]
  },
  {
   "cell_type": "code",
   "execution_count": 7,
   "id": "af51b20a",
   "metadata": {},
   "outputs": [],
   "source": [
    "driver.find_element(By.XPATH, \"//button\").click()"
   ]
  },
  {
   "cell_type": "code",
   "execution_count": 8,
   "id": "300f3d88",
   "metadata": {},
   "outputs": [],
   "source": [
    "driver.find_element(By.XPATH, \"//a[@href = '/CJS/Home/Dashboard/29']\").click()"
   ]
  },
  {
   "cell_type": "code",
   "execution_count": null,
   "id": "4cee6d44",
   "metadata": {},
   "outputs": [],
   "source": [
    "\n"
   ]
  },
  {
   "cell_type": "code",
   "execution_count": 9,
   "id": "22cca8c7",
   "metadata": {},
   "outputs": [
    {
     "ename": "NoSuchElementException",
     "evalue": "Message: no such element: Unable to locate element: {\"method\":\"css selector\",\"selector\":\".form-control\"}\n  (Session info: chrome=111.0.5563.149)\nStacktrace:\nBacktrace:\n\t(No symbol) [0x0108DCE3]\n\t(No symbol) [0x010239D1]\n\t(No symbol) [0x00F34DA8]\n\t(No symbol) [0x00F6019F]\n\t(No symbol) [0x00F603AB]\n\t(No symbol) [0x00F8EE62]\n\t(No symbol) [0x00F7AF14]\n\t(No symbol) [0x00F8D57C]\n\t(No symbol) [0x00F7ACC6]\n\t(No symbol) [0x00F56F68]\n\t(No symbol) [0x00F580CD]\n\tGetHandleVerifier [0x01303832+2506274]\n\tGetHandleVerifier [0x01339794+2727300]\n\tGetHandleVerifier [0x0133E36C+2746716]\n\tGetHandleVerifier [0x01136690+617600]\n\t(No symbol) [0x0102C712]\n\t(No symbol) [0x01031FF8]\n\t(No symbol) [0x010320DB]\n\t(No symbol) [0x0103C63B]\n\tBaseThreadInitThunk [0x762D0099+25]\n\tRtlGetAppContainerNamedObjectPath [0x77857B6E+286]\n\tRtlGetAppContainerNamedObjectPath [0x77857B3E+238]\n",
     "output_type": "error",
     "traceback": [
      "\u001b[1;31m---------------------------------------------------------------------------\u001b[0m",
      "\u001b[1;31mNoSuchElementException\u001b[0m                    Traceback (most recent call last)",
      "\u001b[1;32m~\\AppData\\Local\\Temp\\ipykernel_14368\\2105365923.py\u001b[0m in \u001b[0;36m<module>\u001b[1;34m\u001b[0m\n\u001b[0;32m      8\u001b[0m     \u001b[0mnums\u001b[0m \u001b[1;33m=\u001b[0m \u001b[1;36m21000900\u001b[0m \u001b[1;33m+\u001b[0m \u001b[1;36m100\u001b[0m\u001b[1;33m*\u001b[0m\u001b[0mi\u001b[0m\u001b[1;33m\u001b[0m\u001b[1;33m\u001b[0m\u001b[0m\n\u001b[0;32m      9\u001b[0m     \u001b[1;32mfor\u001b[0m \u001b[0mx\u001b[0m \u001b[1;32min\u001b[0m \u001b[0mrange\u001b[0m\u001b[1;33m(\u001b[0m\u001b[0mnums\u001b[0m\u001b[1;33m,\u001b[0m\u001b[0mnums\u001b[0m\u001b[1;33m+\u001b[0m\u001b[1;36m100\u001b[0m\u001b[1;33m)\u001b[0m\u001b[1;33m:\u001b[0m\u001b[1;33m\u001b[0m\u001b[1;33m\u001b[0m\u001b[0m\n\u001b[1;32m---> 10\u001b[1;33m         \u001b[0mdriver\u001b[0m\u001b[1;33m.\u001b[0m\u001b[0mfind_element\u001b[0m\u001b[1;33m(\u001b[0m\u001b[0mBy\u001b[0m\u001b[1;33m.\u001b[0m\u001b[0mCLASS_NAME\u001b[0m\u001b[1;33m,\u001b[0m \u001b[1;34m\"form-control\"\u001b[0m\u001b[1;33m)\u001b[0m\u001b[1;33m.\u001b[0m\u001b[0msend_keys\u001b[0m\u001b[1;33m(\u001b[0m\u001b[0mKeys\u001b[0m\u001b[1;33m.\u001b[0m\u001b[0mCONTROL\u001b[0m\u001b[1;33m,\u001b[0m \u001b[1;34m'a'\u001b[0m\u001b[1;33m)\u001b[0m\u001b[1;33m\u001b[0m\u001b[1;33m\u001b[0m\u001b[0m\n\u001b[0m\u001b[0;32m     11\u001b[0m         \u001b[0mdriver\u001b[0m\u001b[1;33m.\u001b[0m\u001b[0mfind_element\u001b[0m\u001b[1;33m(\u001b[0m\u001b[0mBy\u001b[0m\u001b[1;33m.\u001b[0m\u001b[0mCLASS_NAME\u001b[0m\u001b[1;33m,\u001b[0m \u001b[1;34m\"form-control\"\u001b[0m\u001b[1;33m)\u001b[0m\u001b[1;33m.\u001b[0m\u001b[0msend_keys\u001b[0m\u001b[1;33m(\u001b[0m\u001b[0mKeys\u001b[0m\u001b[1;33m.\u001b[0m\u001b[0mBACKSPACE\u001b[0m\u001b[1;33m)\u001b[0m\u001b[1;33m\u001b[0m\u001b[1;33m\u001b[0m\u001b[0m\n\u001b[0;32m     12\u001b[0m         \u001b[0mdriver\u001b[0m\u001b[1;33m.\u001b[0m\u001b[0mfind_element\u001b[0m\u001b[1;33m(\u001b[0m\u001b[0mBy\u001b[0m\u001b[1;33m.\u001b[0m\u001b[0mCLASS_NAME\u001b[0m\u001b[1;33m,\u001b[0m \u001b[1;34m\"form-control\"\u001b[0m\u001b[1;33m)\u001b[0m\u001b[1;33m.\u001b[0m\u001b[0msend_keys\u001b[0m\u001b[1;33m(\u001b[0m\u001b[0mstr\u001b[0m\u001b[1;33m(\u001b[0m\u001b[0mx\u001b[0m\u001b[1;33m)\u001b[0m\u001b[1;33m)\u001b[0m\u001b[1;33m\u001b[0m\u001b[1;33m\u001b[0m\u001b[0m\n",
      "\u001b[1;32m~\\anaconda3\\lib\\site-packages\\selenium\\webdriver\\remote\\webdriver.py\u001b[0m in \u001b[0;36mfind_element\u001b[1;34m(self, by, value)\u001b[0m\n\u001b[0;32m    828\u001b[0m             \u001b[0mvalue\u001b[0m \u001b[1;33m=\u001b[0m \u001b[1;34mf'[name=\"{value}\"]'\u001b[0m\u001b[1;33m\u001b[0m\u001b[1;33m\u001b[0m\u001b[0m\n\u001b[0;32m    829\u001b[0m \u001b[1;33m\u001b[0m\u001b[0m\n\u001b[1;32m--> 830\u001b[1;33m         \u001b[1;32mreturn\u001b[0m \u001b[0mself\u001b[0m\u001b[1;33m.\u001b[0m\u001b[0mexecute\u001b[0m\u001b[1;33m(\u001b[0m\u001b[0mCommand\u001b[0m\u001b[1;33m.\u001b[0m\u001b[0mFIND_ELEMENT\u001b[0m\u001b[1;33m,\u001b[0m \u001b[1;33m{\u001b[0m\u001b[1;34m\"using\"\u001b[0m\u001b[1;33m:\u001b[0m \u001b[0mby\u001b[0m\u001b[1;33m,\u001b[0m \u001b[1;34m\"value\"\u001b[0m\u001b[1;33m:\u001b[0m \u001b[0mvalue\u001b[0m\u001b[1;33m}\u001b[0m\u001b[1;33m)\u001b[0m\u001b[1;33m[\u001b[0m\u001b[1;34m\"value\"\u001b[0m\u001b[1;33m]\u001b[0m\u001b[1;33m\u001b[0m\u001b[1;33m\u001b[0m\u001b[0m\n\u001b[0m\u001b[0;32m    831\u001b[0m \u001b[1;33m\u001b[0m\u001b[0m\n\u001b[0;32m    832\u001b[0m     \u001b[1;32mdef\u001b[0m \u001b[0mfind_elements\u001b[0m\u001b[1;33m(\u001b[0m\u001b[0mself\u001b[0m\u001b[1;33m,\u001b[0m \u001b[0mby\u001b[0m\u001b[1;33m=\u001b[0m\u001b[0mBy\u001b[0m\u001b[1;33m.\u001b[0m\u001b[0mID\u001b[0m\u001b[1;33m,\u001b[0m \u001b[0mvalue\u001b[0m\u001b[1;33m:\u001b[0m \u001b[0mOptional\u001b[0m\u001b[1;33m[\u001b[0m\u001b[0mstr\u001b[0m\u001b[1;33m]\u001b[0m \u001b[1;33m=\u001b[0m \u001b[1;32mNone\u001b[0m\u001b[1;33m)\u001b[0m \u001b[1;33m->\u001b[0m \u001b[0mList\u001b[0m\u001b[1;33m[\u001b[0m\u001b[0mWebElement\u001b[0m\u001b[1;33m]\u001b[0m\u001b[1;33m:\u001b[0m\u001b[1;33m\u001b[0m\u001b[1;33m\u001b[0m\u001b[0m\n",
      "\u001b[1;32m~\\anaconda3\\lib\\site-packages\\selenium\\webdriver\\remote\\webdriver.py\u001b[0m in \u001b[0;36mexecute\u001b[1;34m(self, driver_command, params)\u001b[0m\n\u001b[0;32m    438\u001b[0m         \u001b[0mresponse\u001b[0m \u001b[1;33m=\u001b[0m \u001b[0mself\u001b[0m\u001b[1;33m.\u001b[0m\u001b[0mcommand_executor\u001b[0m\u001b[1;33m.\u001b[0m\u001b[0mexecute\u001b[0m\u001b[1;33m(\u001b[0m\u001b[0mdriver_command\u001b[0m\u001b[1;33m,\u001b[0m \u001b[0mparams\u001b[0m\u001b[1;33m)\u001b[0m\u001b[1;33m\u001b[0m\u001b[1;33m\u001b[0m\u001b[0m\n\u001b[0;32m    439\u001b[0m         \u001b[1;32mif\u001b[0m \u001b[0mresponse\u001b[0m\u001b[1;33m:\u001b[0m\u001b[1;33m\u001b[0m\u001b[1;33m\u001b[0m\u001b[0m\n\u001b[1;32m--> 440\u001b[1;33m             \u001b[0mself\u001b[0m\u001b[1;33m.\u001b[0m\u001b[0merror_handler\u001b[0m\u001b[1;33m.\u001b[0m\u001b[0mcheck_response\u001b[0m\u001b[1;33m(\u001b[0m\u001b[0mresponse\u001b[0m\u001b[1;33m)\u001b[0m\u001b[1;33m\u001b[0m\u001b[1;33m\u001b[0m\u001b[0m\n\u001b[0m\u001b[0;32m    441\u001b[0m             \u001b[0mresponse\u001b[0m\u001b[1;33m[\u001b[0m\u001b[1;34m\"value\"\u001b[0m\u001b[1;33m]\u001b[0m \u001b[1;33m=\u001b[0m \u001b[0mself\u001b[0m\u001b[1;33m.\u001b[0m\u001b[0m_unwrap_value\u001b[0m\u001b[1;33m(\u001b[0m\u001b[0mresponse\u001b[0m\u001b[1;33m.\u001b[0m\u001b[0mget\u001b[0m\u001b[1;33m(\u001b[0m\u001b[1;34m\"value\"\u001b[0m\u001b[1;33m,\u001b[0m \u001b[1;32mNone\u001b[0m\u001b[1;33m)\u001b[0m\u001b[1;33m)\u001b[0m\u001b[1;33m\u001b[0m\u001b[1;33m\u001b[0m\u001b[0m\n\u001b[0;32m    442\u001b[0m             \u001b[1;32mreturn\u001b[0m \u001b[0mresponse\u001b[0m\u001b[1;33m\u001b[0m\u001b[1;33m\u001b[0m\u001b[0m\n",
      "\u001b[1;32m~\\anaconda3\\lib\\site-packages\\selenium\\webdriver\\remote\\errorhandler.py\u001b[0m in \u001b[0;36mcheck_response\u001b[1;34m(self, response)\u001b[0m\n\u001b[0;32m    243\u001b[0m                 \u001b[0malert_text\u001b[0m \u001b[1;33m=\u001b[0m \u001b[0mvalue\u001b[0m\u001b[1;33m[\u001b[0m\u001b[1;34m\"alert\"\u001b[0m\u001b[1;33m]\u001b[0m\u001b[1;33m.\u001b[0m\u001b[0mget\u001b[0m\u001b[1;33m(\u001b[0m\u001b[1;34m\"text\"\u001b[0m\u001b[1;33m)\u001b[0m\u001b[1;33m\u001b[0m\u001b[1;33m\u001b[0m\u001b[0m\n\u001b[0;32m    244\u001b[0m             \u001b[1;32mraise\u001b[0m \u001b[0mexception_class\u001b[0m\u001b[1;33m(\u001b[0m\u001b[0mmessage\u001b[0m\u001b[1;33m,\u001b[0m \u001b[0mscreen\u001b[0m\u001b[1;33m,\u001b[0m \u001b[0mstacktrace\u001b[0m\u001b[1;33m,\u001b[0m \u001b[0malert_text\u001b[0m\u001b[1;33m)\u001b[0m  \u001b[1;31m# type: ignore[call-arg]  # mypy is not smart enough here\u001b[0m\u001b[1;33m\u001b[0m\u001b[1;33m\u001b[0m\u001b[0m\n\u001b[1;32m--> 245\u001b[1;33m         \u001b[1;32mraise\u001b[0m \u001b[0mexception_class\u001b[0m\u001b[1;33m(\u001b[0m\u001b[0mmessage\u001b[0m\u001b[1;33m,\u001b[0m \u001b[0mscreen\u001b[0m\u001b[1;33m,\u001b[0m \u001b[0mstacktrace\u001b[0m\u001b[1;33m)\u001b[0m\u001b[1;33m\u001b[0m\u001b[1;33m\u001b[0m\u001b[0m\n\u001b[0m",
      "\u001b[1;31mNoSuchElementException\u001b[0m: Message: no such element: Unable to locate element: {\"method\":\"css selector\",\"selector\":\".form-control\"}\n  (Session info: chrome=111.0.5563.149)\nStacktrace:\nBacktrace:\n\t(No symbol) [0x0108DCE3]\n\t(No symbol) [0x010239D1]\n\t(No symbol) [0x00F34DA8]\n\t(No symbol) [0x00F6019F]\n\t(No symbol) [0x00F603AB]\n\t(No symbol) [0x00F8EE62]\n\t(No symbol) [0x00F7AF14]\n\t(No symbol) [0x00F8D57C]\n\t(No symbol) [0x00F7ACC6]\n\t(No symbol) [0x00F56F68]\n\t(No symbol) [0x00F580CD]\n\tGetHandleVerifier [0x01303832+2506274]\n\tGetHandleVerifier [0x01339794+2727300]\n\tGetHandleVerifier [0x0133E36C+2746716]\n\tGetHandleVerifier [0x01136690+617600]\n\t(No symbol) [0x0102C712]\n\t(No symbol) [0x01031FF8]\n\t(No symbol) [0x010320DB]\n\t(No symbol) [0x0103C63B]\n\tBaseThreadInitThunk [0x762D0099+25]\n\tRtlGetAppContainerNamedObjectPath [0x77857B6E+286]\n\tRtlGetAppContainerNamedObjectPath [0x77857B3E+238]\n"
     ]
    }
   ],
   "source": [
    "# Run Range 10 through 50 or so\n",
    "\n",
    "for i in range(250):\n",
    "    court = []\n",
    "    defendant = []\n",
    "    charges = []\n",
    "    bond = []\n",
    "    nums = 21000900 + 100*i\n",
    "    for x in range(nums,nums+100):\n",
    "        driver.find_element(By.CLASS_NAME, \"form-control\").send_keys(Keys.CONTROL, 'a')\n",
    "        driver.find_element(By.CLASS_NAME, \"form-control\").send_keys(Keys.BACKSPACE)\n",
    "        driver.find_element(By.CLASS_NAME, \"form-control\").send_keys(str(x))\n",
    "        driver.find_element(By.ID, \"btnSSSubmit\").click()\n",
    "        try:\n",
    "            WebDriverWait(driver, 5).until(EC.element_to_be_clickable((By.LINK_TEXT, str(x)))).click()\n",
    "        except:\n",
    "            pass\n",
    "        time.sleep(2)\n",
    "        try:\n",
    "            court.append(driver.find_element(By.ID, \"divCaseInformation_body\").text)\n",
    "            defendant.append(driver.find_element(By.ID, \"divPartyInformation_body\").text)\n",
    "            charges.append(driver.find_element(By.XPATH, \"//div[contains(@id, 'ChargeGrid')]\").text)\n",
    "            bond.append(driver.find_element(By.ID, \"BondsGrid\").text.split('$')[1])\n",
    "        except:\n",
    "            pass\n",
    "        driver.back()\n",
    "    df = pd.DataFrame(data= zip(court,defendant,charges,bond), columns = ['court','defendant','charges','bond'])\n",
    "    df.to_csv(f'{nums}_{nums+100}.csv',index=False)"
   ]
  },
  {
   "cell_type": "code",
   "execution_count": null,
   "id": "bb7fe2b2-5257-4bb0-ab45-8ee1e1db3239",
   "metadata": {},
   "outputs": [],
   "source": [
    "# Run Range 10 through 50 or so\n",
    "\n",
    "for i in range(250):\n",
    "    court = []\n",
    "    defendant = []\n",
    "    charges = []\n",
    "    bond = []\n",
    "    nums = 19000000 + 100*i\n",
    "    for x in range(nums,nums+100):\n",
    "        driver.find_element(By.CLASS_NAME, \"form-control\").send_keys(Keys.CONTROL, 'a')\n",
    "        driver.find_element(By.CLASS_NAME, \"form-control\").send_keys(Keys.BACKSPACE)\n",
    "        driver.find_element(By.CLASS_NAME, \"form-control\").send_keys(str(x))\n",
    "        driver.find_element(By.ID, \"btnSSSubmit\").click()\n",
    "        try:\n",
    "            WebDriverWait(driver, 5).until(EC.element_to_be_clickable((By.LINK_TEXT, str(x)))).click()\n",
    "        except:\n",
    "            pass\n",
    "        time.sleep(2)\n",
    "        try:\n",
    "            court.append(driver.find_element(By.ID, \"divCaseInformation_body\").text)\n",
    "            defendant.append(driver.find_element(By.ID, \"divPartyInformation_body\").text)\n",
    "            charges.append(driver.find_element(By.XPATH, \"//div[contains(@id, 'ChargeGrid')]\").text)\n",
    "            bond.append(driver.find_element(By.ID, \"BondsGrid\").text.split('$')[1])\n",
    "        except:\n",
    "            pass\n",
    "        driver.back()\n",
    "    df = pd.DataFrame(data= zip(court,defendant,charges,bond), columns = ['court','defendant','charges','bond'])\n",
    "    df.to_csv(f'{nums}_{nums+100}.csv',index=False)"
   ]
  },
  {
   "cell_type": "code",
   "execution_count": null,
   "id": "d1c635ac-fda7-4f5c-987d-860232579640",
   "metadata": {},
   "outputs": [],
   "source": [
    "# Run Range 10 through 50 or so\n",
    "\n",
    "for i in range(250):\n",
    "    court = []\n",
    "    defendant = []\n",
    "    charges = []\n",
    "    bond = []\n",
    "    nums = 20000000 + 100*i\n",
    "    for x in range(nums,nums+100):\n",
    "        driver.find_element(By.CLASS_NAME, \"form-control\").send_keys(Keys.CONTROL, 'a')\n",
    "        driver.find_element(By.CLASS_NAME, \"form-control\").send_keys(Keys.BACKSPACE)\n",
    "        driver.find_element(By.CLASS_NAME, \"form-control\").send_keys(str(x))\n",
    "        driver.find_element(By.ID, \"btnSSSubmit\").click()\n",
    "        try:\n",
    "            WebDriverWait(driver, 5).until(EC.element_to_be_clickable((By.LINK_TEXT, str(x)))).click()\n",
    "        except:\n",
    "            pass\n",
    "        time.sleep(2)\n",
    "        try:\n",
    "            court.append(driver.find_element(By.ID, \"divCaseInformation_body\").text)\n",
    "            defendant.append(driver.find_element(By.ID, \"divPartyInformation_body\").text)\n",
    "            charges.append(driver.find_element(By.XPATH, \"//div[contains(@id, 'ChargeGrid')]\").text)\n",
    "            bond.append(driver.find_element(By.ID, \"BondsGrid\").text.split('$')[1])\n",
    "        except:\n",
    "            pass\n",
    "        driver.back()\n",
    "    df = pd.DataFrame(data= zip(court,defendant,charges,bond), columns = ['court','defendant','charges','bond'])\n",
    "    df.to_csv(f'{nums}_{nums+100}.csv',index=False)"
   ]
  },
  {
   "cell_type": "code",
   "execution_count": 25,
   "id": "9cbdfd96-5389-421a-8ff5-9e7f0eed8d82",
   "metadata": {},
   "outputs": [],
   "source": []
  },
  {
   "cell_type": "code",
   "execution_count": null,
   "id": "e0c34336-1616-4549-b2c6-4bd2429e398b",
   "metadata": {},
   "outputs": [],
   "source": []
  },
  {
   "cell_type": "code",
   "execution_count": null,
   "id": "2acc9156-30f7-49d4-a29e-2bc4193d7c6e",
   "metadata": {},
   "outputs": [],
   "source": []
  },
  {
   "cell_type": "code",
   "execution_count": null,
   "id": "63a7c22d",
   "metadata": {},
   "outputs": [],
   "source": []
  }
 ],
 "metadata": {
  "kernelspec": {
   "display_name": "Python 3 (ipykernel)",
   "language": "python",
   "name": "python3"
  },
  "language_info": {
   "codemirror_mode": {
    "name": "ipython",
    "version": 3
   },
   "file_extension": ".py",
   "mimetype": "text/x-python",
   "name": "python",
   "nbconvert_exporter": "python",
   "pygments_lexer": "ipython3",
   "version": "3.9.13"
  }
 },
 "nbformat": 4,
 "nbformat_minor": 5
}
