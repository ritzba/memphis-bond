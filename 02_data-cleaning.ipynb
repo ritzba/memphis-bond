{
 "cells": [
  {
   "cell_type": "code",
   "execution_count": 233,
   "id": "0143871e-9845-40d3-b82e-d39bc5408e84",
   "metadata": {},
   "outputs": [],
   "source": [
    "import pandas as pd\n",
    "import numpy as np\n",
    "import matplotlib.pyplot as plt\n",
    "import seaborn as sns\n",
    "sns.set()\n",
    "pd.set_option('display.max_columns',150)"
   ]
  },
  {
   "cell_type": "code",
   "execution_count": 234,
   "id": "a77ed5e5-1a2a-4248-9e9a-0ee0b0e29e94",
   "metadata": {},
   "outputs": [],
   "source": [
    "import re\n",
    "import os\n",
    "import glob"
   ]
  },
  {
   "cell_type": "code",
   "execution_count": 235,
   "id": "f4a119bf",
   "metadata": {},
   "outputs": [
    {
     "data": {
      "text/plain": [
       "'./outputs/*.csv'"
      ]
     },
     "execution_count": 235,
     "metadata": {},
     "output_type": "execute_result"
    }
   ],
   "source": [
    "os.path.join('./outputs/','*.csv')"
   ]
  },
  {
   "cell_type": "code",
   "execution_count": 236,
   "id": "240dee53",
   "metadata": {},
   "outputs": [],
   "source": [
    "files = glob.glob(os.path.join('./outputs/','*.csv'))"
   ]
  },
  {
   "cell_type": "code",
   "execution_count": 237,
   "id": "b2401428",
   "metadata": {},
   "outputs": [],
   "source": [
    "cases = pd.concat(map(pd.read_csv,files),axis = 0)"
   ]
  },
  {
   "cell_type": "code",
   "execution_count": null,
   "id": "303ae6bf",
   "metadata": {},
   "outputs": [],
   "source": []
  },
  {
   "cell_type": "code",
   "execution_count": 238,
   "id": "0fa35067-660b-4baa-aeb1-080b8d237b9d",
   "metadata": {},
   "outputs": [
    {
     "data": {
      "text/html": [
       "<div>\n",
       "<style scoped>\n",
       "    .dataframe tbody tr th:only-of-type {\n",
       "        vertical-align: middle;\n",
       "    }\n",
       "\n",
       "    .dataframe tbody tr th {\n",
       "        vertical-align: top;\n",
       "    }\n",
       "\n",
       "    .dataframe thead th {\n",
       "        text-align: right;\n",
       "    }\n",
       "</style>\n",
       "<table border=\"1\" class=\"dataframe\">\n",
       "  <thead>\n",
       "    <tr style=\"text-align: right;\">\n",
       "      <th></th>\n",
       "      <th>court</th>\n",
       "      <th>defendant</th>\n",
       "      <th>charges</th>\n",
       "      <th>bond</th>\n",
       "    </tr>\n",
       "  </thead>\n",
       "  <tbody>\n",
       "    <tr>\n",
       "      <th>0</th>\n",
       "      <td>Case Information\\r\\n\\r\\n21000002 | The State of Tennessee vs BANKS, MORGAN S\\r\\n\\r\\nCase Number\\r\\n21000002\\r\\nCourt\\r\\nDivision 13\\r\\nJudicial Officer\\r\\nMontesi, Louis J., Jr.\\r\\nFile Date\\r\\n01...</td>\n",
       "      <td>Defendant\\r\\nBANKS, MORGAN S\\r\\nDOB\\r\\n02/02/1995\\r\\nRace\\r\\nBlack\\r\\nAddress\\r\\n2872 Gruber DR\\r\\nMemphis TN 38127\\r\\n</td>\n",
       "      <td>Description\\r\\nStatute\\r\\nLevel\\r\\nDate\\r\\n1 DRIVING WHILE LICENSE S/R/C 55-50-504 Misdemeanor B 01/01/2021\\r\\n2 VIOLATION OF FINANCIAL LAW 55-12-139 Misdemeanor C 01/01/2021</td>\n",
       "      <td>0.00 Posted</td>\n",
       "    </tr>\n",
       "    <tr>\n",
       "      <th>1</th>\n",
       "      <td>Case Information\\r\\n\\r\\n21000003 | The State of Tennessee vs BLACK, DAJAVANTAY J\\r\\n\\r\\nCase Number\\r\\n21000003\\r\\nCourt\\r\\nDivision 7\\r\\nJudicial Officer\\r\\nAnderson, William Bill\\r\\nFile Date\\r\\...</td>\n",
       "      <td>Defendant\\r\\nBLACK, DAJAVANTAY J\\r\\nDOB\\r\\n01/17/2001\\r\\nRace\\r\\nBlack\\r\\nAddress\\r\\n748 E RAINES\\r\\nAPT 1\\r\\nMEMPHIS TN 38116\\r\\n  Active Attorneys\\r\\nLead Attorney\\r\\nHarris, Jayniece\\r\\nRetained</td>\n",
       "      <td>Description\\r\\nStatute\\r\\nLevel\\r\\nDate\\r\\n1 POSS OF CONT SUBSTANCE 39-17-418 Misdemeanor A 01/01/2021</td>\n",
       "      <td>250.00 Case Disposed</td>\n",
       "    </tr>\n",
       "    <tr>\n",
       "      <th>2</th>\n",
       "      <td>Case Information\\r\\n\\r\\n21000004 | Ths State of Tennessee vs. GARRISON BASS\\r\\n\\r\\nCase Number\\r\\n21000004\\r\\nCourt\\r\\nDivision 8\\r\\nJudicial Officer\\r\\nDwyer, Tim\\r\\nFile Date\\r\\n01/01/2021\\r\\nCa...</td>\n",
       "      <td>Defendant\\r\\nBASS, GARRISON\\r\\nDOB\\r\\n10/01/1987\\r\\nRace\\r\\nWhite\\r\\n  Active Attorneys\\r\\nLead Attorney\\r\\nELMS, ERIC\\r\\nRetained\\r\\nAttorney\\r\\nMATTHEWS, JASON\\r\\nRetained</td>\n",
       "      <td>Description\\r\\nStatute\\r\\nLevel\\r\\nDate\\r\\n1 UPCS-W/I METH 39-17-434 Felony A 01/01/2021</td>\n",
       "      <td>3,500.00 Held To State</td>\n",
       "    </tr>\n",
       "    <tr>\n",
       "      <th>3</th>\n",
       "      <td>Case Information\\r\\n\\r\\n21000005 | The State of Tennessee vs HALL, JAMES E\\r\\n\\r\\nCase Number\\r\\n21000005\\r\\nCourt\\r\\nDivision 13\\r\\nJudicial Officer\\r\\nMontesi, Louis J., Jr.\\r\\nFile Date\\r\\n01/0...</td>\n",
       "      <td>Defendant\\r\\nHALL, JAMES E\\r\\nDOB\\r\\n10/14/1998\\r\\nRace\\r\\nBlack\\r\\nAddress\\r\\n7321 GERMANSHIRE LN\\r\\nMEMPHIS TN 38125\\r\\n</td>\n",
       "      <td>Description\\r\\nStatute\\r\\nLevel\\r\\nDate\\r\\n1 CRIMINAL TRESPASS 39-14-405 Misdemeanor C 01/01/2021\\r\\n2 PUBLIC INTOXICATION 39-17-310 Misdemeanor C 01/01/2021</td>\n",
       "      <td>0.00 Posted</td>\n",
       "    </tr>\n",
       "    <tr>\n",
       "      <th>4</th>\n",
       "      <td>Case Information\\r\\n\\r\\n21000008 | The State of Tennessee vs CHAD CROCKER\\r\\n\\r\\nCase Number\\r\\n21000008\\r\\nCourt\\r\\nDivision 10\\r\\nJudicial Officer\\r\\nTurner, William C.\\r\\nFile Date\\r\\n01/01/202...</td>\n",
       "      <td>Defendant\\r\\nCROCKER, CHAD\\r\\nDOB\\r\\n12/19/1968\\r\\nRace\\r\\nWhite\\r\\nAddress\\r\\n5260 Shelborne CIR\\r\\nAPT 4\\r\\nMemphis TN 38134\\r\\n  Active Attorneys\\r\\nLead Attorney\\r\\nBRASHIER, KENNETH W\\r\\nReta...</td>\n",
       "      <td>Description\\r\\nStatute\\r\\nLevel\\r\\nDate\\r\\n1 DOMESTIC ASSAULT-BODILY HARM 39-13-111 Misdemeanor A 01/01/2021\\r\\n2 DOMESTIC ASSAULT-BODILY HARM 39-13-111 Misdemeanor A 01/01/2021</td>\n",
       "      <td>1,500.00 Case Disposed</td>\n",
       "    </tr>\n",
       "  </tbody>\n",
       "</table>\n",
       "</div>"
      ],
      "text/plain": [
       "                                                                                                                                                                                                     court  \\\n",
       "0  Case Information\\r\\n\\r\\n21000002 | The State of Tennessee vs BANKS, MORGAN S\\r\\n\\r\\nCase Number\\r\\n21000002\\r\\nCourt\\r\\nDivision 13\\r\\nJudicial Officer\\r\\nMontesi, Louis J., Jr.\\r\\nFile Date\\r\\n01...   \n",
       "1  Case Information\\r\\n\\r\\n21000003 | The State of Tennessee vs BLACK, DAJAVANTAY J\\r\\n\\r\\nCase Number\\r\\n21000003\\r\\nCourt\\r\\nDivision 7\\r\\nJudicial Officer\\r\\nAnderson, William Bill\\r\\nFile Date\\r\\...   \n",
       "2  Case Information\\r\\n\\r\\n21000004 | Ths State of Tennessee vs. GARRISON BASS\\r\\n\\r\\nCase Number\\r\\n21000004\\r\\nCourt\\r\\nDivision 8\\r\\nJudicial Officer\\r\\nDwyer, Tim\\r\\nFile Date\\r\\n01/01/2021\\r\\nCa...   \n",
       "3  Case Information\\r\\n\\r\\n21000005 | The State of Tennessee vs HALL, JAMES E\\r\\n\\r\\nCase Number\\r\\n21000005\\r\\nCourt\\r\\nDivision 13\\r\\nJudicial Officer\\r\\nMontesi, Louis J., Jr.\\r\\nFile Date\\r\\n01/0...   \n",
       "4  Case Information\\r\\n\\r\\n21000008 | The State of Tennessee vs CHAD CROCKER\\r\\n\\r\\nCase Number\\r\\n21000008\\r\\nCourt\\r\\nDivision 10\\r\\nJudicial Officer\\r\\nTurner, William C.\\r\\nFile Date\\r\\n01/01/202...   \n",
       "\n",
       "                                                                                                                                                                                                 defendant  \\\n",
       "0                                                                                 Defendant\\r\\nBANKS, MORGAN S\\r\\nDOB\\r\\n02/02/1995\\r\\nRace\\r\\nBlack\\r\\nAddress\\r\\n2872 Gruber DR\\r\\nMemphis TN 38127\\r\\n    \n",
       "1    Defendant\\r\\nBLACK, DAJAVANTAY J\\r\\nDOB\\r\\n01/17/2001\\r\\nRace\\r\\nBlack\\r\\nAddress\\r\\n748 E RAINES\\r\\nAPT 1\\r\\nMEMPHIS TN 38116\\r\\n  Active Attorneys\\r\\nLead Attorney\\r\\nHarris, Jayniece\\r\\nRetained   \n",
       "2                            Defendant\\r\\nBASS, GARRISON\\r\\nDOB\\r\\n10/01/1987\\r\\nRace\\r\\nWhite\\r\\n  Active Attorneys\\r\\nLead Attorney\\r\\nELMS, ERIC\\r\\nRetained\\r\\nAttorney\\r\\nMATTHEWS, JASON\\r\\nRetained   \n",
       "3                                                                              Defendant\\r\\nHALL, JAMES E\\r\\nDOB\\r\\n10/14/1998\\r\\nRace\\r\\nBlack\\r\\nAddress\\r\\n7321 GERMANSHIRE LN\\r\\nMEMPHIS TN 38125\\r\\n    \n",
       "4  Defendant\\r\\nCROCKER, CHAD\\r\\nDOB\\r\\n12/19/1968\\r\\nRace\\r\\nWhite\\r\\nAddress\\r\\n5260 Shelborne CIR\\r\\nAPT 4\\r\\nMemphis TN 38134\\r\\n  Active Attorneys\\r\\nLead Attorney\\r\\nBRASHIER, KENNETH W\\r\\nReta...   \n",
       "\n",
       "                                                                                                                                                                                 charges  \\\n",
       "0         Description\\r\\nStatute\\r\\nLevel\\r\\nDate\\r\\n1 DRIVING WHILE LICENSE S/R/C 55-50-504 Misdemeanor B 01/01/2021\\r\\n2 VIOLATION OF FINANCIAL LAW 55-12-139 Misdemeanor C 01/01/2021   \n",
       "1                                                                                 Description\\r\\nStatute\\r\\nLevel\\r\\nDate\\r\\n1 POSS OF CONT SUBSTANCE 39-17-418 Misdemeanor A 01/01/2021   \n",
       "2                                                                                               Description\\r\\nStatute\\r\\nLevel\\r\\nDate\\r\\n1 UPCS-W/I METH 39-17-434 Felony A 01/01/2021   \n",
       "3                          Description\\r\\nStatute\\r\\nLevel\\r\\nDate\\r\\n1 CRIMINAL TRESPASS 39-14-405 Misdemeanor C 01/01/2021\\r\\n2 PUBLIC INTOXICATION 39-17-310 Misdemeanor C 01/01/2021   \n",
       "4      Description\\r\\nStatute\\r\\nLevel\\r\\nDate\\r\\n1 DOMESTIC ASSAULT-BODILY HARM 39-13-111 Misdemeanor A 01/01/2021\\r\\n2 DOMESTIC ASSAULT-BODILY HARM 39-13-111 Misdemeanor A 01/01/2021   \n",
       "\n",
       "                     bond  \n",
       "0             0.00 Posted  \n",
       "1    250.00 Case Disposed  \n",
       "2  3,500.00 Held To State  \n",
       "3             0.00 Posted  \n",
       "4  1,500.00 Case Disposed  "
      ]
     },
     "execution_count": 238,
     "metadata": {},
     "output_type": "execute_result"
    }
   ],
   "source": [
    "cases.head()"
   ]
  },
  {
   "cell_type": "code",
   "execution_count": 239,
   "id": "c53d1c18",
   "metadata": {},
   "outputs": [
    {
     "name": "stdout",
     "output_type": "stream",
     "text": [
      "<class 'pandas.core.frame.DataFrame'>\n",
      "Int64Index: 7376 entries, 0 to 0\n",
      "Data columns (total 4 columns):\n",
      " #   Column     Non-Null Count  Dtype \n",
      "---  ------     --------------  ----- \n",
      " 0   court      7376 non-null   object\n",
      " 1   defendant  7376 non-null   object\n",
      " 2   charges    7376 non-null   object\n",
      " 3   bond       7376 non-null   object\n",
      "dtypes: object(4)\n",
      "memory usage: 288.1+ KB\n"
     ]
    }
   ],
   "source": [
    "cases.info()"
   ]
  },
  {
   "cell_type": "code",
   "execution_count": 240,
   "id": "c01e18cd",
   "metadata": {},
   "outputs": [],
   "source": [
    "pd.set_option('display.max_colwidth',200)"
   ]
  },
  {
   "cell_type": "code",
   "execution_count": 241,
   "id": "248fc602",
   "metadata": {},
   "outputs": [],
   "source": [
    "for col in cases:\n",
    "    cases[col] = cases[col].str.replace('\\r','')"
   ]
  },
  {
   "cell_type": "code",
   "execution_count": null,
   "id": "2d95e010",
   "metadata": {},
   "outputs": [],
   "source": []
  },
  {
   "cell_type": "code",
   "execution_count": null,
   "id": "1bf63400",
   "metadata": {},
   "outputs": [],
   "source": []
  },
  {
   "cell_type": "code",
   "execution_count": 242,
   "id": "632484b5",
   "metadata": {},
   "outputs": [],
   "source": [
    "cases['cl'] = [set(re.findall(r'Misdemeanor\\s\\D|Felony\\s\\D',charge)) for charge in cases['charges']]"
   ]
  },
  {
   "cell_type": "code",
   "execution_count": 243,
   "id": "9f8df238",
   "metadata": {},
   "outputs": [],
   "source": [
    "cases['hom'] = cases['charges'].apply(lambda x: 1 if 'murder' in x.lower() else 0)"
   ]
  },
  {
   "cell_type": "code",
   "execution_count": 244,
   "id": "2dca5ced",
   "metadata": {},
   "outputs": [],
   "source": [
    "cases['gun'] = cases['charges'].apply(lambda x: 1 if 'firearm' in x.lower() else 1 if 'handgun' in x.lower() else 0)"
   ]
  },
  {
   "cell_type": "code",
   "execution_count": 245,
   "id": "6072d65e",
   "metadata": {},
   "outputs": [],
   "source": [
    "cases['rape'] = cases['charges'].apply(lambda x: 1 if 'rape' in x.lower() else 0)"
   ]
  },
  {
   "cell_type": "code",
   "execution_count": 246,
   "id": "3623d5b9",
   "metadata": {},
   "outputs": [],
   "source": [
    "cases['sex'] = cases['charges'].apply(lambda x: 1 if 'sexual' in x.lower() else 0)"
   ]
  },
  {
   "cell_type": "code",
   "execution_count": 247,
   "id": "c634a911",
   "metadata": {},
   "outputs": [],
   "source": [
    "cases['robb'] = cases['charges'].apply(lambda x: 1 if 'robbery' in x.lower() else 0)"
   ]
  },
  {
   "cell_type": "code",
   "execution_count": 248,
   "id": "107c8efd",
   "metadata": {},
   "outputs": [],
   "source": [
    "cases['burg'] = cases['charges'].apply(lambda x: 1 if 'burg' in x.lower() else 0)"
   ]
  },
  {
   "cell_type": "code",
   "execution_count": 249,
   "id": "08a7e638",
   "metadata": {},
   "outputs": [
    {
     "ename": "SyntaxError",
     "evalue": "unexpected character after line continuation character (955350477.py, line 1)",
     "output_type": "error",
     "traceback": [
      "\u001b[1;36m  Cell \u001b[1;32mIn[249], line 1\u001b[1;36m\u001b[0m\n\u001b[1;33m    cases['drug'] = cases['charges'].apply(lambda x: 1 if 'upcs' in x.lower()\\\u001b[0m\n\u001b[1;37m                                                                              ^\u001b[0m\n\u001b[1;31mSyntaxError\u001b[0m\u001b[1;31m:\u001b[0m unexpected character after line continuation character\n"
     ]
    }
   ],
   "source": [
    "cases['drug'] = cases['charges'].apply(lambda x: 1 if 'upcs' in x.lower()\\ \n",
    "                                       else 1 if 'controlled' in x.lower()\\\n",
    "                                       else 1 if 'meth' in x.lower()\\\n",
    "                                       else 1 if 'drug' in x.lower() else 0)"
   ]
  },
  {
   "cell_type": "code",
   "execution_count": 250,
   "id": "80593a9f",
   "metadata": {},
   "outputs": [],
   "source": [
    "cases['driv'] = cases['charges'].apply(lambda x: 1 if 'driving' in x.lower() else 0)"
   ]
  },
  {
   "cell_type": "code",
   "execution_count": null,
   "id": "3e9fa72e",
   "metadata": {},
   "outputs": [],
   "source": []
  },
  {
   "cell_type": "code",
   "execution_count": 251,
   "id": "5558428f",
   "metadata": {},
   "outputs": [],
   "source": [
    "cases['ch'] = [set(re.findall('\\d{2}\\-\\d{2}-\\d{3,6}',charge)) for charge in cases['charges']]"
   ]
  },
  {
   "cell_type": "code",
   "execution_count": 252,
   "id": "299a6b66-26ee-47b5-acec-6cbb09352de6",
   "metadata": {},
   "outputs": [],
   "source": [
    "cases['name'] = cases['defendant'].str.split('\\n',expand=True)[1]\n",
    "cases['dob'] = cases['defendant'].str.split('\\n',expand=True)[3]\n",
    "cases['race'] = cases['defendant'].str.split('\\n',expand=True)[5]\n",
    "cases['zip'] = cases['defendant'].str.split('\\n',expand=True)[8][-5:]\n",
    "cases['atty'] = cases['defendant'].str.split('\\n',expand=True)[11]\n",
    "cases['retained'] = cases['defendant'].str.split('\\n',expand=True)[12]"
   ]
  },
  {
   "cell_type": "code",
   "execution_count": 253,
   "id": "365954d9-0328-4af9-9539-c0a99e4a620e",
   "metadata": {},
   "outputs": [],
   "source": [
    "cases['case_no'] = cases['court'].str.split('\\n',expand = True)[5]\n",
    "cases['judge'] = cases['court'].str.split('\\n',expand = True)[9]\n",
    "cases['date'] = cases['court'].str.split('\\n',expand = True)[11]\n",
    "cases['type'] = cases['court'].str.split('\\n',expand = True)[13]\n",
    "cases['status'] = cases['court'].str.split('\\n',expand = True)[15]\n",
    "cases['bond_amt'] = cases['bond'].str.split(' ', n=1, expand=True)[0]\n",
    "cases['bond_status'] = cases['bond'].str.split(' ', n=1, expand=True)[1]"
   ]
  },
  {
   "cell_type": "code",
   "execution_count": 254,
   "id": "bf7cc1cc",
   "metadata": {},
   "outputs": [],
   "source": [
    "cases = cases[cases['cl'] != set()]"
   ]
  },
  {
   "cell_type": "code",
   "execution_count": 255,
   "id": "750025c5-5b71-4b6c-be0d-196ede057b2c",
   "metadata": {},
   "outputs": [],
   "source": [
    "cases = cases.iloc[:,4:]"
   ]
  },
  {
   "cell_type": "code",
   "execution_count": 256,
   "id": "b55d12be-a803-43f2-96d2-2f0f181ec641",
   "metadata": {},
   "outputs": [],
   "source": [
    "cases['bond_amt'] = cases['bond_amt'].str.replace(',','')"
   ]
  },
  {
   "cell_type": "code",
   "execution_count": 257,
   "id": "7915dae9-0fd4-4eff-9efe-33907029e5fe",
   "metadata": {},
   "outputs": [],
   "source": [
    "cases['bond_amt'] = pd.to_numeric(cases['bond_amt'])"
   ]
  },
  {
   "cell_type": "code",
   "execution_count": 258,
   "id": "a6eb09bc",
   "metadata": {},
   "outputs": [
    {
     "data": {
      "text/html": [
       "<div>\n",
       "<style scoped>\n",
       "    .dataframe tbody tr th:only-of-type {\n",
       "        vertical-align: middle;\n",
       "    }\n",
       "\n",
       "    .dataframe tbody tr th {\n",
       "        vertical-align: top;\n",
       "    }\n",
       "\n",
       "    .dataframe thead th {\n",
       "        text-align: right;\n",
       "    }\n",
       "</style>\n",
       "<table border=\"1\" class=\"dataframe\">\n",
       "  <thead>\n",
       "    <tr style=\"text-align: right;\">\n",
       "      <th></th>\n",
       "      <th>cl</th>\n",
       "      <th>hom</th>\n",
       "      <th>gun</th>\n",
       "      <th>rape</th>\n",
       "      <th>sex</th>\n",
       "      <th>robb</th>\n",
       "      <th>burg</th>\n",
       "      <th>driv</th>\n",
       "      <th>ch</th>\n",
       "      <th>name</th>\n",
       "      <th>dob</th>\n",
       "      <th>race</th>\n",
       "      <th>zip</th>\n",
       "      <th>atty</th>\n",
       "      <th>retained</th>\n",
       "      <th>case_no</th>\n",
       "      <th>judge</th>\n",
       "      <th>date</th>\n",
       "      <th>type</th>\n",
       "      <th>status</th>\n",
       "      <th>bond_amt</th>\n",
       "      <th>bond_status</th>\n",
       "    </tr>\n",
       "  </thead>\n",
       "  <tbody>\n",
       "    <tr>\n",
       "      <th>0</th>\n",
       "      <td>{Misdemeanor B, Misdemeanor C}</td>\n",
       "      <td>0</td>\n",
       "      <td>0</td>\n",
       "      <td>0</td>\n",
       "      <td>0</td>\n",
       "      <td>0</td>\n",
       "      <td>0</td>\n",
       "      <td>1</td>\n",
       "      <td>{55-50-504, 55-12-139}</td>\n",
       "      <td>BANKS, MORGAN S</td>\n",
       "      <td>02/02/1995</td>\n",
       "      <td>Black</td>\n",
       "      <td>Memphis TN 38114</td>\n",
       "      <td>None</td>\n",
       "      <td>None</td>\n",
       "      <td>21000002</td>\n",
       "      <td>Montesi, Louis J., Jr.</td>\n",
       "      <td>01/01/2021</td>\n",
       "      <td>Misdemeanor Arrest</td>\n",
       "      <td>Disposed</td>\n",
       "      <td>0.0</td>\n",
       "      <td>Posted</td>\n",
       "    </tr>\n",
       "    <tr>\n",
       "      <th>1</th>\n",
       "      <td>{Misdemeanor A}</td>\n",
       "      <td>0</td>\n",
       "      <td>0</td>\n",
       "      <td>0</td>\n",
       "      <td>0</td>\n",
       "      <td>0</td>\n",
       "      <td>0</td>\n",
       "      <td>0</td>\n",
       "      <td>{39-17-418}</td>\n",
       "      <td>BLACK, DAJAVANTAY J</td>\n",
       "      <td>01/17/2001</td>\n",
       "      <td>Black</td>\n",
       "      <td>NaN</td>\n",
       "      <td>Lead Attorney</td>\n",
       "      <td>Harris, Jayniece</td>\n",
       "      <td>21000003</td>\n",
       "      <td>Anderson, William Bill</td>\n",
       "      <td>01/01/2021</td>\n",
       "      <td>Misdemeanor Arrest</td>\n",
       "      <td>Disposed</td>\n",
       "      <td>250.0</td>\n",
       "      <td>Case Disposed</td>\n",
       "    </tr>\n",
       "    <tr>\n",
       "      <th>2</th>\n",
       "      <td>{Felony A}</td>\n",
       "      <td>0</td>\n",
       "      <td>0</td>\n",
       "      <td>0</td>\n",
       "      <td>0</td>\n",
       "      <td>0</td>\n",
       "      <td>0</td>\n",
       "      <td>0</td>\n",
       "      <td>{39-17-434}</td>\n",
       "      <td>BASS, GARRISON</td>\n",
       "      <td>10/01/1987</td>\n",
       "      <td>White</td>\n",
       "      <td>NaN</td>\n",
       "      <td>MATTHEWS, JASON</td>\n",
       "      <td>Retained</td>\n",
       "      <td>21000004</td>\n",
       "      <td>Dwyer, Tim</td>\n",
       "      <td>01/01/2021</td>\n",
       "      <td>Felony Arrest Drug</td>\n",
       "      <td>Held to State</td>\n",
       "      <td>3500.0</td>\n",
       "      <td>Held To State</td>\n",
       "    </tr>\n",
       "    <tr>\n",
       "      <th>3</th>\n",
       "      <td>{Misdemeanor C}</td>\n",
       "      <td>0</td>\n",
       "      <td>0</td>\n",
       "      <td>0</td>\n",
       "      <td>0</td>\n",
       "      <td>0</td>\n",
       "      <td>0</td>\n",
       "      <td>0</td>\n",
       "      <td>{39-17-310, 39-14-405}</td>\n",
       "      <td>HALL, JAMES E</td>\n",
       "      <td>10/14/1998</td>\n",
       "      <td>Black</td>\n",
       "      <td>NaN</td>\n",
       "      <td>None</td>\n",
       "      <td>None</td>\n",
       "      <td>21000005</td>\n",
       "      <td>Montesi, Louis J., Jr.</td>\n",
       "      <td>01/01/2021</td>\n",
       "      <td>Misdemeanor Arrest</td>\n",
       "      <td>Disposed</td>\n",
       "      <td>0.0</td>\n",
       "      <td>Posted</td>\n",
       "    </tr>\n",
       "    <tr>\n",
       "      <th>4</th>\n",
       "      <td>{Misdemeanor A}</td>\n",
       "      <td>0</td>\n",
       "      <td>0</td>\n",
       "      <td>0</td>\n",
       "      <td>0</td>\n",
       "      <td>0</td>\n",
       "      <td>0</td>\n",
       "      <td>0</td>\n",
       "      <td>{39-13-111}</td>\n",
       "      <td>CROCKER, CHAD</td>\n",
       "      <td>12/19/1968</td>\n",
       "      <td>White</td>\n",
       "      <td>NaN</td>\n",
       "      <td>Lead Attorney</td>\n",
       "      <td>BRASHIER, KENNETH W</td>\n",
       "      <td>21000008</td>\n",
       "      <td>Turner, William C.</td>\n",
       "      <td>01/01/2021</td>\n",
       "      <td>Misdemeanor Arrest Domestic Violence</td>\n",
       "      <td>Disposed</td>\n",
       "      <td>1500.0</td>\n",
       "      <td>Case Disposed</td>\n",
       "    </tr>\n",
       "    <tr>\n",
       "      <th>...</th>\n",
       "      <td>...</td>\n",
       "      <td>...</td>\n",
       "      <td>...</td>\n",
       "      <td>...</td>\n",
       "      <td>...</td>\n",
       "      <td>...</td>\n",
       "      <td>...</td>\n",
       "      <td>...</td>\n",
       "      <td>...</td>\n",
       "      <td>...</td>\n",
       "      <td>...</td>\n",
       "      <td>...</td>\n",
       "      <td>...</td>\n",
       "      <td>...</td>\n",
       "      <td>...</td>\n",
       "      <td>...</td>\n",
       "      <td>...</td>\n",
       "      <td>...</td>\n",
       "      <td>...</td>\n",
       "      <td>...</td>\n",
       "      <td>...</td>\n",
       "      <td>...</td>\n",
       "    </tr>\n",
       "    <tr>\n",
       "      <th>32</th>\n",
       "      <td>{Misdemeanor A}</td>\n",
       "      <td>0</td>\n",
       "      <td>0</td>\n",
       "      <td>0</td>\n",
       "      <td>0</td>\n",
       "      <td>0</td>\n",
       "      <td>0</td>\n",
       "      <td>0</td>\n",
       "      <td>{39-14-146}</td>\n",
       "      <td>OLIVER, DUSTIN E</td>\n",
       "      <td>06/12/1992</td>\n",
       "      <td>White</td>\n",
       "      <td>NaN</td>\n",
       "      <td>None</td>\n",
       "      <td>None</td>\n",
       "      <td>23005334</td>\n",
       "      <td>Judge/Judical, Court</td>\n",
       "      <td>04/07/2023</td>\n",
       "      <td>State Warrant</td>\n",
       "      <td>Active or Open</td>\n",
       "      <td>0.0</td>\n",
       "      <td>Posted</td>\n",
       "    </tr>\n",
       "    <tr>\n",
       "      <th>33</th>\n",
       "      <td>{Felony E}</td>\n",
       "      <td>0</td>\n",
       "      <td>0</td>\n",
       "      <td>0</td>\n",
       "      <td>0</td>\n",
       "      <td>0</td>\n",
       "      <td>0</td>\n",
       "      <td>0</td>\n",
       "      <td>{40-39-208}</td>\n",
       "      <td>MCKINNEY, RICKEY</td>\n",
       "      <td>02/19/1968</td>\n",
       "      <td>Black</td>\n",
       "      <td>MEMPHIS TN 38127</td>\n",
       "      <td>None</td>\n",
       "      <td>None</td>\n",
       "      <td>23005335</td>\n",
       "      <td>Judge/Judical, Court</td>\n",
       "      <td>04/07/2023</td>\n",
       "      <td>State Warrant</td>\n",
       "      <td>Active or Open</td>\n",
       "      <td>2000.0</td>\n",
       "      <td>Posted</td>\n",
       "    </tr>\n",
       "    <tr>\n",
       "      <th>34</th>\n",
       "      <td>{Felony E}</td>\n",
       "      <td>0</td>\n",
       "      <td>0</td>\n",
       "      <td>0</td>\n",
       "      <td>0</td>\n",
       "      <td>0</td>\n",
       "      <td>0</td>\n",
       "      <td>0</td>\n",
       "      <td>{40-39-208}</td>\n",
       "      <td>JONES, CHARLES</td>\n",
       "      <td>11/02/1958</td>\n",
       "      <td>Black</td>\n",
       "      <td>MEMPHIS TN 38103</td>\n",
       "      <td>None</td>\n",
       "      <td>None</td>\n",
       "      <td>23005336</td>\n",
       "      <td>Judge/Judical, Court</td>\n",
       "      <td>04/07/2023</td>\n",
       "      <td>State Warrant</td>\n",
       "      <td>Active or Open</td>\n",
       "      <td>0.0</td>\n",
       "      <td>Posted</td>\n",
       "    </tr>\n",
       "    <tr>\n",
       "      <th>35</th>\n",
       "      <td>{Misdemeanor A}</td>\n",
       "      <td>0</td>\n",
       "      <td>0</td>\n",
       "      <td>0</td>\n",
       "      <td>0</td>\n",
       "      <td>0</td>\n",
       "      <td>0</td>\n",
       "      <td>0</td>\n",
       "      <td>{39-14-408}</td>\n",
       "      <td>MCKINNEY, JULIA</td>\n",
       "      <td>08/05/2000</td>\n",
       "      <td>Black</td>\n",
       "      <td>MEMPHIS TN 38115</td>\n",
       "      <td>None</td>\n",
       "      <td>None</td>\n",
       "      <td>23005337</td>\n",
       "      <td>Judge/Judical, Court</td>\n",
       "      <td>04/07/2023</td>\n",
       "      <td>State Warrant</td>\n",
       "      <td>Active or Open</td>\n",
       "      <td>0.0</td>\n",
       "      <td>Posted</td>\n",
       "    </tr>\n",
       "    <tr>\n",
       "      <th>0</th>\n",
       "      <td>{Misdemeanor B, Misdemeanor A}</td>\n",
       "      <td>0</td>\n",
       "      <td>0</td>\n",
       "      <td>0</td>\n",
       "      <td>0</td>\n",
       "      <td>0</td>\n",
       "      <td>0</td>\n",
       "      <td>0</td>\n",
       "      <td>{39-14-146, 39-16-602}</td>\n",
       "      <td>MATTHEWS, LEVON</td>\n",
       "      <td>12/21/1983</td>\n",
       "      <td>Black</td>\n",
       "      <td>Memphis TN 38114</td>\n",
       "      <td>Cliff, John F</td>\n",
       "      <td>Retained</td>\n",
       "      <td>23005400</td>\n",
       "      <td>Johnson, Christian R.</td>\n",
       "      <td>04/08/2023</td>\n",
       "      <td>Misdemeanor Arrest</td>\n",
       "      <td>Active or Open</td>\n",
       "      <td>1000.0</td>\n",
       "      <td>Posted</td>\n",
       "    </tr>\n",
       "  </tbody>\n",
       "</table>\n",
       "<p>6516 rows × 22 columns</p>\n",
       "</div>"
      ],
      "text/plain": [
       "                                cl  hom  gun  rape  sex  robb  burg  driv  \\\n",
       "0   {Misdemeanor B, Misdemeanor C}    0    0     0    0     0     0     1   \n",
       "1                  {Misdemeanor A}    0    0     0    0     0     0     0   \n",
       "2                       {Felony A}    0    0     0    0     0     0     0   \n",
       "3                  {Misdemeanor C}    0    0     0    0     0     0     0   \n",
       "4                  {Misdemeanor A}    0    0     0    0     0     0     0   \n",
       "..                             ...  ...  ...   ...  ...   ...   ...   ...   \n",
       "32                 {Misdemeanor A}    0    0     0    0     0     0     0   \n",
       "33                      {Felony E}    0    0     0    0     0     0     0   \n",
       "34                      {Felony E}    0    0     0    0     0     0     0   \n",
       "35                 {Misdemeanor A}    0    0     0    0     0     0     0   \n",
       "0   {Misdemeanor B, Misdemeanor A}    0    0     0    0     0     0     0   \n",
       "\n",
       "                        ch                 name         dob   race  \\\n",
       "0   {55-50-504, 55-12-139}      BANKS, MORGAN S  02/02/1995  Black   \n",
       "1              {39-17-418}  BLACK, DAJAVANTAY J  01/17/2001  Black   \n",
       "2              {39-17-434}       BASS, GARRISON  10/01/1987  White   \n",
       "3   {39-17-310, 39-14-405}        HALL, JAMES E  10/14/1998  Black   \n",
       "4              {39-13-111}        CROCKER, CHAD  12/19/1968  White   \n",
       "..                     ...                  ...         ...    ...   \n",
       "32             {39-14-146}     OLIVER, DUSTIN E  06/12/1992  White   \n",
       "33             {40-39-208}     MCKINNEY, RICKEY  02/19/1968  Black   \n",
       "34             {40-39-208}       JONES, CHARLES  11/02/1958  Black   \n",
       "35             {39-14-408}      MCKINNEY, JULIA  08/05/2000  Black   \n",
       "0   {39-14-146, 39-16-602}      MATTHEWS, LEVON  12/21/1983  Black   \n",
       "\n",
       "                 zip             atty             retained   case_no  \\\n",
       "0   Memphis TN 38114             None                 None  21000002   \n",
       "1                NaN    Lead Attorney     Harris, Jayniece  21000003   \n",
       "2                NaN  MATTHEWS, JASON             Retained  21000004   \n",
       "3                NaN             None                 None  21000005   \n",
       "4                NaN    Lead Attorney  BRASHIER, KENNETH W  21000008   \n",
       "..               ...              ...                  ...       ...   \n",
       "32               NaN             None                 None  23005334   \n",
       "33  MEMPHIS TN 38127             None                 None  23005335   \n",
       "34  MEMPHIS TN 38103             None                 None  23005336   \n",
       "35  MEMPHIS TN 38115             None                 None  23005337   \n",
       "0   Memphis TN 38114    Cliff, John F             Retained  23005400   \n",
       "\n",
       "                     judge        date                                  type  \\\n",
       "0   Montesi, Louis J., Jr.  01/01/2021                    Misdemeanor Arrest   \n",
       "1   Anderson, William Bill  01/01/2021                    Misdemeanor Arrest   \n",
       "2               Dwyer, Tim  01/01/2021                    Felony Arrest Drug   \n",
       "3   Montesi, Louis J., Jr.  01/01/2021                    Misdemeanor Arrest   \n",
       "4       Turner, William C.  01/01/2021  Misdemeanor Arrest Domestic Violence   \n",
       "..                     ...         ...                                   ...   \n",
       "32    Judge/Judical, Court  04/07/2023                         State Warrant   \n",
       "33    Judge/Judical, Court  04/07/2023                         State Warrant   \n",
       "34    Judge/Judical, Court  04/07/2023                         State Warrant   \n",
       "35    Judge/Judical, Court  04/07/2023                         State Warrant   \n",
       "0    Johnson, Christian R.  04/08/2023                    Misdemeanor Arrest   \n",
       "\n",
       "            status  bond_amt    bond_status  \n",
       "0         Disposed       0.0         Posted  \n",
       "1         Disposed     250.0  Case Disposed  \n",
       "2    Held to State    3500.0  Held To State  \n",
       "3         Disposed       0.0         Posted  \n",
       "4         Disposed    1500.0  Case Disposed  \n",
       "..             ...       ...            ...  \n",
       "32  Active or Open       0.0         Posted  \n",
       "33  Active or Open    2000.0         Posted  \n",
       "34  Active or Open       0.0         Posted  \n",
       "35  Active or Open       0.0         Posted  \n",
       "0   Active or Open    1000.0         Posted  \n",
       "\n",
       "[6516 rows x 22 columns]"
      ]
     },
     "execution_count": 258,
     "metadata": {},
     "output_type": "execute_result"
    }
   ],
   "source": [
    "cases"
   ]
  },
  {
   "cell_type": "code",
   "execution_count": 259,
   "id": "bff13596",
   "metadata": {},
   "outputs": [
    {
     "data": {
      "text/plain": [
       "{Misdemeanor A}                                                      2245\n",
       "{Felony C}                                                            673\n",
       "{Felony E}                                                            511\n",
       "{Felony D}                                                            274\n",
       "{Felony E, Misdemeanor A}                                             242\n",
       "{Misdemeanor C}                                                       225\n",
       "{Misdemeanor C, Misdemeanor A}                                        210\n",
       "{Felony C, Misdemeanor A}                                             195\n",
       "{Misdemeanor B, Misdemeanor C, Misdemeanor A}                         165\n",
       "{Misdemeanor B}                                                        89\n",
       "{Misdemeanor A, Felony D}                                              84\n",
       "{Felony E, Felony C}                                                   80\n",
       "{Felony E, Misdemeanor C, Misdemeanor A}                               78\n",
       "{Felony E, Misdemeanor A, Felony D}                                    72\n",
       "{Misdemeanor B, Misdemeanor A}                                         64\n",
       "{Misdemeanor B, Misdemeanor C}                                         61\n",
       "{Felony B}                                                             59\n",
       "{Felony E, Misdemeanor B, Misdemeanor C, Misdemeanor A}                59\n",
       "{Felony E, Misdemeanor C}                                              57\n",
       "{Felony E, Felony C, Misdemeanor A}                                    53\n",
       "{Felony E, Misdemeanor C, Misdemeanor A, Felony D}                     53\n",
       "{Felony E, Felony D}                                                   47\n",
       "{Felony E, Misdemeanor B, Misdemeanor C}                               47\n",
       "{Felony A}                                                             42\n",
       "{Felony C, Felony D}                                                   39\n",
       "{Felony C, Felony B}                                                   38\n",
       "{Felony C, Misdemeanor C, Misdemeanor A}                               38\n",
       "{Felony B, Misdemeanor A}                                              29\n",
       "{Felony E, Misdemeanor B, Misdemeanor A}                               27\n",
       "{Felony C, Felony A}                                                   22\n",
       "{Felony E, Misdemeanor B}                                              21\n",
       "{Felony E, Felony C, Misdemeanor A, Felony D}                          21\n",
       "{Felony E, Misdemeanor C, Felony D}                                    19\n",
       "{Felony E, Felony C, Felony D}                                         19\n",
       "{Felony C, Misdemeanor A, Felony D}                                    19\n",
       "{Felony D, Felony E, Misdemeanor A, Misdemeanor B, Misdemeanor C}      18\n",
       "{Felony E, Felony C, Misdemeanor C, Misdemeanor A}                     17\n",
       "{Felony A, Misdemeanor A}                                              16\n",
       "{Felony C, Felony B, Misdemeanor A}                                    15\n",
       "{Misdemeanor B, Felony C, Misdemeanor A}                               14\n",
       "{Felony E, Felony B}                                                   14\n",
       "{Felony B, Felony D}                                                   14\n",
       "{Misdemeanor C, Felony D}                                              13\n",
       "{Felony E, Felony B, Misdemeanor A, Felony D}                          13\n",
       "{Felony A, Felony D}                                                   13\n",
       "{Felony C, Misdemeanor C}                                              13\n",
       "{Misdemeanor B, Felony C, Misdemeanor C, Misdemeanor A}                11\n",
       "{Felony E, Felony A, Misdemeanor A}                                    11\n",
       "{Misdemeanor C, Misdemeanor A, Felony D}                               10\n",
       "{Felony C, Felony B, Felony D}                                          9\n",
       "Name: cl, dtype: int64"
      ]
     },
     "execution_count": 259,
     "metadata": {},
     "output_type": "execute_result"
    }
   ],
   "source": [
    "cases['cl'].value_counts().head(50)"
   ]
  },
  {
   "cell_type": "code",
   "execution_count": 260,
   "id": "b54b6c15",
   "metadata": {},
   "outputs": [],
   "source": [
    "cases['dob'] = pd.to_datetime(cases['dob'], errors = 'coerce')"
   ]
  },
  {
   "cell_type": "code",
   "execution_count": 261,
   "id": "b0f079e9-7112-46fc-86dd-7a20e7b7ed2d",
   "metadata": {},
   "outputs": [
    {
     "data": {
      "text/plain": [
       "1992-10-27    9\n",
       "1999-01-01    8\n",
       "1985-12-13    8\n",
       "2001-01-03    8\n",
       "2000-09-06    7\n",
       "             ..\n",
       "1986-04-16    1\n",
       "1967-08-16    1\n",
       "1997-02-14    1\n",
       "1983-06-12    1\n",
       "1983-12-21    1\n",
       "Name: dob, Length: 4648, dtype: int64"
      ]
     },
     "execution_count": 261,
     "metadata": {},
     "output_type": "execute_result"
    }
   ],
   "source": [
    "cases['dob'].value_counts()"
   ]
  },
  {
   "cell_type": "code",
   "execution_count": 262,
   "id": "68a704fc-8d18-4620-bb08-179327ae019d",
   "metadata": {},
   "outputs": [
    {
     "data": {
      "text/plain": [
       "Black                      5482\n",
       "White                       974\n",
       "Other                        24\n",
       "                              5\n",
       "Asian                         4\n",
       "Unavailable                   2\n",
       "10/15/1983                    1\n",
       "08/10/1995                    1\n",
       "6607 BARKSHIRE COVE           1\n",
       "4025 WESLET FOREST PL S       1\n",
       "10/07/1999                    1\n",
       "1024 GOODMAN                  1\n",
       "3742 PERSHING PARK DR         1\n",
       "05/16/1990                    1\n",
       "06/17/1984                    1\n",
       "4468 WHISPERING BEND DR       1\n",
       "07/11/1998                    1\n",
       "671 DELLROSE DR               1\n",
       "Indian                        1\n",
       "2301 HWY 311                  1\n",
       "2943 MIMOSA                   1\n",
       "DOB                           1\n",
       "10/27/1995                    1\n",
       "01/01/1981                    1\n",
       "02/24/1980                    1\n",
       "07/19/1979                    1\n",
       "MARKED TREE AR 72365          1\n",
       "10/18/1995                    1\n",
       "08/23/1980                    1\n",
       "Name: race, dtype: int64"
      ]
     },
     "execution_count": 262,
     "metadata": {},
     "output_type": "execute_result"
    }
   ],
   "source": [
    "cases['race'].value_counts()"
   ]
  },
  {
   "cell_type": "code",
   "execution_count": 263,
   "id": "338051d9-f646-4de0-a4d2-1c28a6b532f1",
   "metadata": {},
   "outputs": [],
   "source": [
    "cases['race'] = cases['race'].apply(lambda x: x if x in ['Black','White','Asian'] else 'Other')"
   ]
  },
  {
   "cell_type": "code",
   "execution_count": 264,
   "id": "f5ccb197-8fae-4720-8417-76cd1df7c07e",
   "metadata": {},
   "outputs": [
    {
     "data": {
      "text/plain": [
       "Memphis TN 38114    172\n",
       "MEMPHIS TN 38127    126\n",
       "MEMPHIS TN 38103    123\n",
       "MEMPHIS TN 38115    121\n",
       "MEMPHIS TN 38018    116\n",
       "Name: zip, dtype: int64"
      ]
     },
     "execution_count": 264,
     "metadata": {},
     "output_type": "execute_result"
    }
   ],
   "source": [
    "cases['zip'].value_counts()"
   ]
  },
  {
   "cell_type": "code",
   "execution_count": 265,
   "id": "e1d98d8b-ed64-47d3-b3f6-45e165176dca",
   "metadata": {},
   "outputs": [],
   "source": [
    "cases['atty'] = cases['atty'].str.upper()"
   ]
  },
  {
   "cell_type": "code",
   "execution_count": 266,
   "id": "6f776185-5aaa-4a4a-971e-7aca3093a700",
   "metadata": {},
   "outputs": [
    {
     "data": {
      "text/plain": [
       "LEAD ATTORNEY           403\n",
       "ORES, VINCENT D          87\n",
       "CAMPBELL, MITCH          80\n",
       "HALL, ERIC SCOTT         79\n",
       "PRATER, ANDREA J         70\n",
       "                       ... \n",
       "WALSH, WILLIAM F, IV      1\n",
       "ATTORNEY                  1\n",
       "HENDERSON, JOCELYN V      1\n",
       "BURKS, ADDIE M            1\n",
       "BROWN, JACOB WEBSTER      1\n",
       "Name: atty, Length: 249, dtype: int64"
      ]
     },
     "execution_count": 266,
     "metadata": {},
     "output_type": "execute_result"
    }
   ],
   "source": [
    "cases['atty'].value_counts()"
   ]
  },
  {
   "cell_type": "code",
   "execution_count": 267,
   "id": "9966066a-4f19-4abd-bd80-5ce5b0634077",
   "metadata": {},
   "outputs": [
    {
     "data": {
      "text/plain": [
       "Retained                   3178\n",
       "Court Appointed              65\n",
       "TATUM, TERRANCE E            17\n",
       "Prater, Andrea J             13\n",
       "GILCHRIST, CHARLES           12\n",
       "                           ... \n",
       "PRITCHARD, JOHN PRIEST        1\n",
       "BLODGETT, CHRISTOPHER R       1\n",
       "Wilkes, Baron J               1\n",
       "Dilley, Jennifer              1\n",
       "MCDANIEL, JR, MARK            1\n",
       "Name: retained, Length: 144, dtype: int64"
      ]
     },
     "execution_count": 267,
     "metadata": {},
     "output_type": "execute_result"
    }
   ],
   "source": [
    "cases['retained'].value_counts()"
   ]
  },
  {
   "cell_type": "code",
   "execution_count": 268,
   "id": "661ca781-6e24-4c56-873d-9ba3a005ce02",
   "metadata": {},
   "outputs": [],
   "source": [
    "cases['atty'] = cases.apply(lambda x: x['retained'] if x['retained'] not in ['Retained','Court Appointed'] else x['atty'], axis = 1)"
   ]
  },
  {
   "cell_type": "code",
   "execution_count": 269,
   "id": "85c41e06-d347-4c63-862d-34f55773619c",
   "metadata": {},
   "outputs": [
    {
     "data": {
      "text/plain": [
       "0     21000002\n",
       "1     21000003\n",
       "2     21000004\n",
       "3     21000005\n",
       "4     21000008\n",
       "        ...   \n",
       "32    23005334\n",
       "33    23005335\n",
       "34    23005336\n",
       "35    23005337\n",
       "0     23005400\n",
       "Name: case_no, Length: 6516, dtype: object"
      ]
     },
     "execution_count": 269,
     "metadata": {},
     "output_type": "execute_result"
    }
   ],
   "source": [
    "cases['case_no'].sort_values()"
   ]
  },
  {
   "cell_type": "code",
   "execution_count": 270,
   "id": "7eff7090-ae11-412c-b1fa-654ed8357e2c",
   "metadata": {},
   "outputs": [],
   "source": [
    "cases['atty'] = cases.apply(lambda x: x['retained'] if x['retained'] not in ['Retained','Court Appointed'] else x['atty'], axis = 1)"
   ]
  },
  {
   "cell_type": "code",
   "execution_count": 271,
   "id": "5769bbef-4223-4099-a596-65c101d5cba6",
   "metadata": {},
   "outputs": [],
   "source": [
    "cases['date'] = cases.apply(lambda x: x['judge'] if x['date'] == 'State Warrant' else x['date'], axis = 1)"
   ]
  },
  {
   "cell_type": "code",
   "execution_count": 272,
   "id": "9998fbd1-0814-4eaf-a6c2-088ea1df76c8",
   "metadata": {},
   "outputs": [],
   "source": [
    "cases['judge'] = cases.apply(lambda x: x['judge'] if x['judge'] in ['Gilbert, Greg','Lucchesi, Ronald','Anderson, William Bill',\\\n",
    "                                                                 'Wilson, Lee','Massey, Karen','Renfroe, Sheila B.','Montesi, Louis J., Jr.',\\\n",
    "                                                                 'Johnson, Christian R.','Turner, William C.','Dwyer, Tim','Lambert-Ryan, Loyce'\\\n",
    "                                                                 'Skahan, Gerald'] else 'Other',axis = 1)"
   ]
  },
  {
   "cell_type": "code",
   "execution_count": 273,
   "id": "0d355cee-8974-4896-a7a9-11cc9689ca4f",
   "metadata": {},
   "outputs": [
    {
     "data": {
      "text/plain": [
       "Felony Arrest                               2092\n",
       "Misdemeanor Arrest                          1509\n",
       "Misdemeanor Arrest Domestic Violence         846\n",
       "Felony Arrest Drug                           811\n",
       "State Warrant                                586\n",
       "Felony Arrest Domestic Violence              384\n",
       "Active or Open                               269\n",
       "Criminal Summons Other                         6\n",
       "Disposed                                       5\n",
       "Closed - Warrant Recalled                      3\n",
       "Held to State                                  1\n",
       "Pre-filed                                      1\n",
       "Attachment Pro Corpas Other Court Arrest       1\n",
       "OMSe Booked In Error Or Entered In Error       1\n",
       "Inactive                                       1\n",
       "Name: type, dtype: int64"
      ]
     },
     "execution_count": 273,
     "metadata": {},
     "output_type": "execute_result"
    }
   ],
   "source": [
    "cases['type'].value_counts()"
   ]
  },
  {
   "cell_type": "code",
   "execution_count": 274,
   "id": "e0163ab8-9038-4bf5-9f63-1541d4a1ebde",
   "metadata": {},
   "outputs": [
    {
     "data": {
      "text/plain": [
       "Active or Open                              2693\n",
       "Disposed                                    2417\n",
       "Held to State                                911\n",
       "Arraignment                                  148\n",
       "Reopen                                        16\n",
       "Diversion                                     12\n",
       "State Warrant Arrest                          11\n",
       "Closed - Warrant Recalled                     10\n",
       "Bond Revoked                                   6\n",
       "Entered in Error                               4\n",
       "OMSe Booked In Error Or Entered In Error       2\n",
       "Bench Warrant                                  2\n",
       "Grand Jury Decision                            1\n",
       "Remanded to General Sessions                   1\n",
       "Name: status, dtype: int64"
      ]
     },
     "execution_count": 274,
     "metadata": {},
     "output_type": "execute_result"
    }
   ],
   "source": [
    "cases['status'].value_counts()"
   ]
  },
  {
   "cell_type": "code",
   "execution_count": 275,
   "id": "cf6e82c4-05da-4727-8bc7-1fd35ce51f04",
   "metadata": {},
   "outputs": [
    {
     "data": {
      "text/plain": [
       "0.0         2919\n",
       "5000.0       461\n",
       "1000.0       429\n",
       "2500.0       306\n",
       "10000.0      282\n",
       "500.0        167\n",
       "1500.0       165\n",
       "3000.0       164\n",
       "15000.0      163\n",
       "7500.0       150\n",
       "2000.0       143\n",
       "25000.0      139\n",
       "20000.0      132\n",
       "50000.0       99\n",
       "3500.0        91\n",
       "250.0         83\n",
       "30000.0       75\n",
       "4000.0        69\n",
       "100.0         58\n",
       "40000.0       46\n",
       "75000.0       42\n",
       "6000.0        31\n",
       "35000.0       31\n",
       "750.0         27\n",
       "8000.0        25\n",
       "200.0         22\n",
       "12000.0       18\n",
       "150.0         15\n",
       "7000.0        13\n",
       "100000.0      13\n",
       "60000.0       11\n",
       "150000.0      10\n",
       "350.0          8\n",
       "400.0          7\n",
       "45000.0        7\n",
       "1100.0         6\n",
       "1200.0         6\n",
       "80000.0        6\n",
       "12500.0        6\n",
       "65000.0        5\n",
       "900.0          5\n",
       "700.0          4\n",
       "8500.0         4\n",
       "300.0          4\n",
       "70000.0        3\n",
       "6500.0         3\n",
       "9000.0         3\n",
       "200000.0       3\n",
       "1250.0         2\n",
       "600.0          2\n",
       "Name: bond_amt, dtype: int64"
      ]
     },
     "execution_count": 275,
     "metadata": {},
     "output_type": "execute_result"
    }
   ],
   "source": [
    "cases['bond_amt'].value_counts().head(50)"
   ]
  },
  {
   "cell_type": "code",
   "execution_count": 276,
   "id": "883f34c9-676b-4ced-a43b-133528f977db",
   "metadata": {},
   "outputs": [
    {
     "data": {
      "text/plain": [
       "Posted                                                           3611\n",
       "Case Disposed                                                    1504\n",
       "Held To State                                                     673\n",
       "ROR/ROC Conditional Forfeiture                                    179\n",
       "Conditional Forfeiture-Surety                                     121\n",
       "Bond Forf Set Aside w Costs                                        41\n",
       "Inactive                                                           35\n",
       "Bond Reinstated                                                    28\n",
       "Inactive\\nReleased on own Recognizance                             27\n",
       "Final Forfeiture                                                   20\n",
       "Bond Reinstated\\nReleased on own Recognizance                      19\n",
       "Bond Revoked                                                       17\n",
       "Posted\\nReleased on own Recognizance                               17\n",
       "Conditional Forfeiture-Cash                                        12\n",
       "Final Judgement Taken-Surety                                       12\n",
       "Refused To Sign                                                    10\n",
       "Case Disposed\\nReleased on own Recognizance                         6\n",
       "Inactive\\nSurety Bond                                               6\n",
       "Bond Exonerated                                                     5\n",
       "Active                                                              5\n",
       "Bond Conversion                                                     5\n",
       "ROR/ROC Conditional Forfeiture\\nReleased on own Recognizance        4\n",
       "Conditional Forfeiture-Surety\\nSurety Bond                          4\n",
       "Bond Revoked\\nReleased on own Recognizance                          4\n",
       "Refused To Sign\\nReleased on own Recognizance                       4\n",
       "Conditional Forfeiture-Surety\\nReleased on own Recognizance         3\n",
       "Bond Forf Set Aside w/o Costs                                       3\n",
       "Posted\\nSurety Bond                                                 3\n",
       "Diversion Case                                                      3\n",
       "Added in Error\\nReleased on own Recognizance                        2\n",
       "Bond Forf Set Aside w Costs\\nReleased on own Recognizance           2\n",
       "Diversion Case\\nReleased on own Recognizance                        2\n",
       "ROR/ROC Conditional Forfeiture\\nSurety Bond                         2\n",
       "Held To State\\nSurety Bond                                          2\n",
       "Added in Error\\nSurety Bond                                         2\n",
       "Inactive\\nSurety Bond FCS12459722                                   1\n",
       "Inactive\\nSurety Bond WC701494232                                   1\n",
       "Posted\\nSurety Bond PC201515129                                     1\n",
       "Bond Revoked\\nCash Bonds GS2200733                                  1\n",
       "ROR/ROC Conditional Forfeiture\\nCash Bonds GS2200530                1\n",
       "Posted\\nSurety Bond PC201525592                                     1\n",
       "ROR/ROC Conditional Forfeiture\\nSurety Bond AS1K592480              1\n",
       "ROR/ROC Conditional Forfeiture\\nCash Bonds GS2200696                1\n",
       "Conditional Forfeiture-Surety\\nSurety Bond PC30-01510026            1\n",
       "Refused To Sign\\nSurety Bond FCS252488957                           1\n",
       "Posted\\nSurety Bond FCS52563955                                     1\n",
       "Bond Revoked\\nSurety Bond FCS502526711                              1\n",
       "Case Disposed\\nCash Bonds GS2200524                                 1\n",
       "Final Judgement Taken-Surety\\nSurety Bond PSC151940831              1\n",
       "Posted\\nSurety Bond PC201488689                                     1\n",
       "Name: bond_status, dtype: int64"
      ]
     },
     "execution_count": 276,
     "metadata": {},
     "output_type": "execute_result"
    }
   ],
   "source": [
    "cases['bond_status'].value_counts().head(50)"
   ]
  },
  {
   "cell_type": "code",
   "execution_count": 277,
   "id": "d9a2eec3-317a-4ddd-bc11-f7e1a8d9deea",
   "metadata": {},
   "outputs": [
    {
     "data": {
      "text/plain": [
       "cl                0\n",
       "hom               0\n",
       "gun               0\n",
       "rape              0\n",
       "sex               0\n",
       "robb              0\n",
       "burg              0\n",
       "driv              0\n",
       "ch                0\n",
       "name              0\n",
       "dob              25\n",
       "race              0\n",
       "zip            5858\n",
       "atty           2858\n",
       "retained       2858\n",
       "case_no           0\n",
       "judge             0\n",
       "date              0\n",
       "type              0\n",
       "status          282\n",
       "bond_amt          0\n",
       "bond_status       0\n",
       "dtype: int64"
      ]
     },
     "execution_count": 277,
     "metadata": {},
     "output_type": "execute_result"
    }
   ],
   "source": [
    "cases.isnull().sum().head(50)"
   ]
  },
  {
   "cell_type": "code",
   "execution_count": 278,
   "id": "8b747c28-04a6-49ba-9671-00a564bf1f84",
   "metadata": {},
   "outputs": [
    {
     "data": {
      "text/plain": [
       "{39-13-111}                                       828\n",
       "{39-14-103}                                       643\n",
       "{39-13-102}                                       405\n",
       "{39-14-146}                                       282\n",
       "{39-13-101}                                       261\n",
       "{39-14-408}                                       211\n",
       "{40-39-208}                                       152\n",
       "{39-14-405}                                       114\n",
       "{39-17-417}                                       104\n",
       "{39-17-308}                                        82\n",
       "{39-17-1307}                                       69\n",
       "{39-17-425, 39-17-417}                             66\n",
       "{39-14-408, 39-13-111}                             52\n",
       "{39-17-418}                                        48\n",
       "{39-13-402}                                        42\n",
       "{39-14-103, 39-16-603}                             42\n",
       "{39-14-408, 39-13-102}                             41\n",
       "{39-13-1002}                                       37\n",
       "{39-14-103, 39-14-114}                             36\n",
       "{39-13-113}                                        35\n",
       "{39-17-418, 39-17-425}                             34\n",
       "{39-17-1307, 39-14-103}                            33\n",
       "{39-13-513}                                        33\n",
       "{39-17-1324, 39-17-425, 39-17-417}                 31\n",
       "{39-14-402}                                        30\n",
       "{39-14-402, 39-14-103}                             29\n",
       "{39-16-201}                                        28\n",
       "{39-17-1324, 39-17-1307, 39-17-425, 39-17-417}     26\n",
       "{}                                                 26\n",
       "{55-10-401}                                        25\n",
       "{39-17-418, 39-17-425, 39-17-417}                  25\n",
       "{39-13-1002, 39-14-103}                            25\n",
       "{39-14-106}                                        24\n",
       "{39-13-101, 39-14-408}                             23\n",
       "{39-13-102, 39-13-111}                             22\n",
       "{39-13-102, 39-17-1307}                            22\n",
       "{55-10-401, 55-10-205, 39-17-310}                  21\n",
       "{39-16-603}                                        21\n",
       "{39-17-418, 39-17-417}                             20\n",
       "{39-17-418, 39-17-1307}                            19\n",
       "{39-13-103}                                        19\n",
       "{39-17-305}                                        18\n",
       "{39-13-102, 39-14-103}                             18\n",
       "{39-14-408, 39-14-103}                             18\n",
       "{39-17-1307, 39-14-103, 39-16-603}                 17\n",
       "{39-17-1324, 39-17-417}                            17\n",
       "{39-13-210}                                        17\n",
       "{39-17-1324, 39-13-202}                            17\n",
       "{39-16-502}                                        16\n",
       "{55-50-504, 39-17-417}                             16\n",
       "Name: ch, dtype: int64"
      ]
     },
     "execution_count": 278,
     "metadata": {},
     "output_type": "execute_result"
    }
   ],
   "source": [
    "cases['ch'].value_counts().head(50)"
   ]
  },
  {
   "cell_type": "code",
   "execution_count": 279,
   "id": "0bda37e4",
   "metadata": {},
   "outputs": [],
   "source": [
    "cases.loc[cases['date'] >= '02/15/2023','era'] = 2"
   ]
  },
  {
   "cell_type": "code",
   "execution_count": 280,
   "id": "9d5b285e",
   "metadata": {},
   "outputs": [],
   "source": [
    "cases.loc[(cases['date'] >= '01/01/2023') & (cases['date'] < '02/15/2023'),'era'] = 1"
   ]
  },
  {
   "cell_type": "code",
   "execution_count": 281,
   "id": "6ea1be1d",
   "metadata": {},
   "outputs": [],
   "source": [
    "cases.loc[(cases['date'] >= '09/01/2022') & (cases['date'] <= '12/31/2022'),'era'] = 1"
   ]
  },
  {
   "cell_type": "code",
   "execution_count": 282,
   "id": "b5be670e",
   "metadata": {},
   "outputs": [],
   "source": [
    "cases.loc[cases['date'] < '09/01/2022','era'] = 0"
   ]
  },
  {
   "cell_type": "code",
   "execution_count": 283,
   "id": "949357ae",
   "metadata": {},
   "outputs": [],
   "source": [
    "cases['log_bond'] = np.log(cases['bond_amt'] + 1)"
   ]
  },
  {
   "cell_type": "code",
   "execution_count": 284,
   "id": "787c504b",
   "metadata": {},
   "outputs": [],
   "source": [
    "cases.to_csv('ody.csv',index=False)"
   ]
  },
  {
   "cell_type": "code",
   "execution_count": null,
   "id": "d8d986e5-206a-45f1-b6f3-fce8dae1065e",
   "metadata": {},
   "outputs": [],
   "source": []
  },
  {
   "cell_type": "code",
   "execution_count": null,
   "id": "0880a466-f4eb-4e5a-b463-29c34e912546",
   "metadata": {},
   "outputs": [],
   "source": []
  },
  {
   "cell_type": "code",
   "execution_count": null,
   "id": "cfadcd13-a952-4252-b048-e1d1546c8ceb",
   "metadata": {},
   "outputs": [],
   "source": []
  },
  {
   "cell_type": "code",
   "execution_count": null,
   "id": "91a5c247-adc0-44ea-a6c4-d1c2fa7da00f",
   "metadata": {},
   "outputs": [],
   "source": []
  },
  {
   "cell_type": "code",
   "execution_count": null,
   "id": "212e4657-8d08-4136-b100-a6f343862d44",
   "metadata": {},
   "outputs": [],
   "source": []
  }
 ],
 "metadata": {
  "kernelspec": {
   "display_name": "Python 3 (ipykernel)",
   "language": "python",
   "name": "python3"
  },
  "language_info": {
   "codemirror_mode": {
    "name": "ipython",
    "version": 3
   },
   "file_extension": ".py",
   "mimetype": "text/x-python",
   "name": "python",
   "nbconvert_exporter": "python",
   "pygments_lexer": "ipython3",
   "version": "3.9.16"
  }
 },
 "nbformat": 4,
 "nbformat_minor": 5
}
